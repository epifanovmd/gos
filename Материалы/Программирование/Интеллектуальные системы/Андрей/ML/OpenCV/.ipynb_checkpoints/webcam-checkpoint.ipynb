{
 "cells": [
  {
   "cell_type": "code",
   "execution_count": 58,
   "metadata": {
    "collapsed": false
   },
   "outputs": [
    {
     "data": {
      "image/png": "[encoded data removed]",
      "text/plain": [
       "<matplotlib.figure.Figure at 0x166dcc571d0>"
      ]
     },
     "metadata": {},
     "output_type": "display_data"
    }
   ],
   "source": [
    "import numpy as np\n",
    "import cv2\n",
    "import matplotlib.pyplot as plt\n",
    "\n",
    "im = cv2.imread('out.jpg')\n",
    "\n",
    "imgray = cv2.cvtColor(im,cv2.COLOR_BGR2GRAY)\n",
    "ret,thresh = cv2.threshold(imgray,127,255,cv2.THRESH_BINARY)\n",
    "image, contours, hierarchy = cv2.findContours(thresh,cv2.RETR_TREE,cv2.CHAIN_APPROX_SIMPLE)\n",
    "\n",
    "cnt = contours[0]\n",
    "x,y,w,h = cv2.boundingRect(cnt)\n",
    "\n",
    "cv2.rectangle(im,(x-50,y-50),(x+w+50,y+h+50),(0,255,0),1)\n",
    "\n",
    "plt.imshow(im, cmap='gray')\n",
    "plt.show()\n"
   ]
  },
  {
   "cell_type": "code",
   "execution_count": 17,
   "metadata": {
    "collapsed": false,
    "scrolled": true
   },
   "outputs": [],
   "source": [
    "import numpy as np\n",
    "import cv2\n",
    "\n",
    "cap = cv2.VideoCapture(0)\n",
    "font = cv2.FONT_HERSHEY_SIMPLEX\n",
    "\n",
    "while 1:\n",
    "    ret, img = cap.read()\n",
    "    \n",
    "    imgray = cv2.cvtColor(img,cv2.COLOR_BGR2GRAY) \n",
    "    \n",
    "    ret,thresh = cv2.threshold(imgray,240,255,0)\n",
    "    \n",
    "    \n",
    "    \n",
    "    st1 = cv2.getStructuringElement(cv2.MORPH_RECT, (21, 21), (10, 10))\n",
    "    st2 = cv2.getStructuringElement(cv2.MORPH_RECT, (11, 11), (5, 5))\n",
    "    thresh = cv2.morphologyEx(thresh, cv2.MORPH_CLOSE, st1) \n",
    "    thresh = cv2.morphologyEx(thresh, cv2.MORPH_OPEN, st2) \n",
    "    thresh = cv2.GaussianBlur(thresh, (5, 5), 2)\n",
    "    \n",
    "\n",
    "    image, contours, hierarchy = cv2.findContours(thresh,cv2.RETR_TREE,cv2.CHAIN_APPROX_SIMPLE)\n",
    "    \n",
    "    \n",
    "    thr = 0\n",
    "    #cnt = contours\n",
    "    #cv2.drawContours(img,cnt,-1,(0,250,0),2)\n",
    "    \n",
    "    crop_img = None\n",
    "    if len(contours) > 0:\n",
    "        cnt = contours[0]\n",
    "        x,y,w,h = cv2.boundingRect(cnt)\n",
    "        cv2.rectangle(img,(x-25,y-25),(x+w+25,y+h+25),(0,0,255),1)\n",
    "        \n",
    "        \n",
    "        crop_img = img[y: y + h, x: x + w] # Crop from x, y, w, h -> 100, 200, 300, 400\n",
    "        # NOTE: its img[y: y + h, x: x + w] and *not* img[x: x + w, y: y + h]\n",
    "        \n",
    "        \n",
    "        cv2.putText(img,'3',(x,y-30), font, 1,(0,255,0),1,cv2.LINE_AA)\n",
    "        \n",
    "        \n",
    "        imgray = cv2.cvtColor(crop_img, cv2.COLOR_BGR2GRAY)\n",
    "        \n",
    "        ret,thresh2 = cv2.threshold(imgray,127,255,cv2.THRESH_BINARY_INV)\n",
    "        \n",
    "        cv2.imshow(\"cropped\", thresh2)\n",
    "\n",
    "        \n",
    "    \n",
    "    \n",
    "    cv2.imshow('img', img)\n",
    "    cv2.imshow('img1', thresh)\n",
    "    \n",
    "    k = cv2.waitKey(30) & 0xff\n",
    "    if k == 27:\n",
    "        break\n",
    "\n",
    "cap.release()\n",
    "cv2.destroyAllWindows()"
   ]
  },
  {
   "cell_type": "code",
   "execution_count": null,
   "metadata": {
    "collapsed": true
   },
   "outputs": [],
   "source": []
  },
  {
   "cell_type": "code",
   "execution_count": null,
   "metadata": {
    "collapsed": true
   },
   "outputs": [],
   "source": []
  },
  {
   "cell_type": "code",
   "execution_count": null,
   "metadata": {
    "collapsed": true
   },
   "outputs": [],
   "source": []
  },
  {
   "cell_type": "code",
   "execution_count": 14,
   "metadata": {
    "collapsed": false
   },
   "outputs": [],
   "source": [
    "import cv2\n",
    "\n",
    "# load the video\n",
    "#camera = cv2.VideoCapture(args[\"video\"])\n",
    "camera = cv2.VideoCapture(0) # microscope camera\n",
    "coeff=1.95 # microscope camera focus distance coeffitienf\n",
    "Sr=10 # frame dimension to calculate distance\n",
    "\n",
    "# keep looping\n",
    "while True:\n",
    "    # grab the current frame and initialize the status text\n",
    "    (grabbed, frame) = camera.read()\n",
    "    status = \"No Targets\"\n",
    "\n",
    "    # convert the frame to grayscale, blur it, and detect edges\n",
    "    gray = cv2.cvtColor(frame, cv2.COLOR_BGR2GRAY)\n",
    "    blurred = cv2.GaussianBlur(gray, (7, 7), 0)\n",
    "    edged = cv2.Canny(blurred, 50, 150)\n",
    "        \n",
    "    cv2.imshow(\"edged\", edged)\n",
    "    \n",
    "    \n",
    "    \n",
    "    \n",
    "    \n",
    "    \n",
    "    # find contours in the edge map\n",
    "    (_i, cnts, _) = cv2.findContours(edged.copy(), cv2.RETR_EXTERNAL,cv2.CHAIN_APPROX_SIMPLE)\n",
    "    # loop over the contours\n",
    "    for c in cnts:\n",
    "        # approximate the contour\n",
    "        peri = cv2.arcLength(c, True)\n",
    "        approx = cv2.approxPolyDP(c, 0.01 * peri, True)\n",
    "\n",
    "        # ensure that the approximated contour is \"roughly\" rectangular\n",
    "        if len(approx) >= 4 and len(approx) <= 6:\n",
    "            \n",
    "            \n",
    "            # compute the bounding box of the approximated contour and\n",
    "            # use the bounding box to compute the aspect ratio\n",
    "            (x, y, w, h) = cv2.boundingRect(approx)\n",
    "            aspectRatio = w / float(h)\n",
    "\n",
    "            # calculate distance to frame\n",
    "            k=float(w)/640\n",
    "            S = Sr*coeff/k\n",
    "\n",
    "            # compute the solidity of the original contour\n",
    "            area = cv2.contourArea(c)\n",
    "            hullArea = cv2.contourArea(cv2.convexHull(c))\n",
    "            solidity = area / float(hullArea)\n",
    "\n",
    "            # compute whether or not the width and height, solidity, and\n",
    "            # aspect ratio of the contour falls within appropriate bounds\n",
    "            keepDims = w > 25 and h > 25\n",
    "            keepSolidity = solidity > 0.3\n",
    "            keepAspectRatio = aspectRatio >= 0.8 and aspectRatio <= 1.2\n",
    "\n",
    "            # ensure that the contour passes all our tests\n",
    "            if keepDims and keepSolidity and keepAspectRatio:\n",
    "                # draw an outline around the target and update the status\n",
    "                # text\n",
    "                cv2.rectangle(frame,(x-25,y-25),(x+w+25,y+h+25),(0,0,255),1)\n",
    "                #cv2.drawContours(frame, [approx], -1, (0, 0, 255), 4)\n",
    "                status = \"Target(s) Acquired\"\n",
    "\n",
    "\n",
    "\n",
    "\n",
    "\n",
    "    # draw the status text on the frame\n",
    "    cv2.putText(frame, status, (20, 30), cv2.FONT_HERSHEY_SIMPLEX, 0.5, (0, 0, 255), 2)\n",
    "\n",
    "    # show the frame and record if a key is pressed\n",
    "    cv2.imshow(\"Frame\", frame)\n",
    "    \n",
    "    \n",
    "    key = cv2.waitKey(30) & 0xff\n",
    "    if key == 27:\n",
    "        break\n",
    "\n",
    "# cleanup the camera and close any open windows\n",
    "camera.release()\n",
    "cv2.destroyAllWindows()\n"
   ]
  },
  {
   "cell_type": "code",
   "execution_count": null,
   "metadata": {
    "collapsed": true
   },
   "outputs": [],
   "source": []
  }
 ],
 "metadata": {
  "anaconda-cloud": {},
  "kernelspec": {
   "display_name": "Python [default]",
   "language": "python",
   "name": "python3"
  },
  "language_info": {
   "codemirror_mode": {
    "name": "ipython",
    "version": 3
   },
   "file_extension": ".py",
   "mimetype": "text/x-python",
   "name": "python",
   "nbconvert_exporter": "python",
   "pygments_lexer": "ipython3",
   "version": "3.5.2"
  }
 },
 "nbformat": 4,
 "nbformat_minor": 1
}
