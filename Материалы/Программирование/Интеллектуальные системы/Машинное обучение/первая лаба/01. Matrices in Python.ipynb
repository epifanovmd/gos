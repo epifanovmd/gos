{
 "cells": [
  {
   "cell_type": "markdown",
   "metadata": {},
   "source": [
    "# 1. Матричные вычисления в Python\n",
    "**Цель работы**: Изучить библиотеки для матричных вычислений языка Python, средства обработки и визуализации табличных данных."
   ]
  },
  {
   "cell_type": "markdown",
   "metadata": {},
   "source": [
    "## Библиотека NumPy\n",
    "\n",
    "В языке Python отстуствуют встроенные средства для эффективной работы с векторами и матрицами. Ближайший аналог — списки, но они вычисления над ними сравнительно медленные, и в языке нет инструментов для вычисления матричных разложений, поиска обратной матрицы и т. д. Однако проблема решается подключением сторонних библиотек, из которых самой распространённой является NumPy. Многие другие библиотеки, такие как SciPy и Matplotlib строятся на её основе.\n",
    "\n",
    "Часть NumPy для большей эффективности расчётов написана на C с использованием оптимизированной для высокопроизводительных расчётов библиотеки LAPACK. Если же её быстродействия не хватает, можно подключить библиотеку Theano, позволяющую использовать для ускорения работы средства GPU видеокарты.\n",
    "\n",
    "Библиотека обычно подключается следующим образом:"
   ]
  },
  {
   "cell_type": "code",
   "execution_count": 1,
   "metadata": {
    "collapsed": true
   },
   "outputs": [],
   "source": [
    "import numpy as np"
   ]
  },
  {
   "cell_type": "markdown",
   "metadata": {},
   "source": [
    "### Массивы\n",
    "\n",
    "Основной тип данных NumPy — массив, соответствующий матрицам и векторам. Он представлен классом array. Важное отличие массивов от списков заключается в том, что *все элементы имеют единый тип данных*.\n",
    "\n",
    "Массив может иметь несколько измерений, тогда его элементы будут индексироваться не числом, а парой чисел (сравните со списками списков в Python). Количество измерений называется *рангом* (rank). *Форма массива* (shape) — это кортеж размеров по всем измерениям.\n",
    "\n",
    "Конструктор класса позволяет создавать массивы на основе списков. Доступ к элементам осуществляется как обычно, указанием индекса в квадратных скобках."
   ]
  },
  {
   "cell_type": "code",
   "execution_count": 2,
   "metadata": {
    "collapsed": false
   },
   "outputs": [
    {
     "name": "stdout",
     "output_type": "stream",
     "text": [
      "a = [2 3 5 7]\n",
      "Тип a: <class 'numpy.ndarray'>\n",
      "Форма a: (4,)\n",
      "a[0] = 2, a[2] = 5\n",
      "a = [11  3  5  7]\n"
     ]
    }
   ],
   "source": [
    "a = np.array([2, 3, 5, 7])\n",
    "print ('a =', a)\n",
    "print ('Тип a:', type(a))\n",
    "print ('Форма a:', a.shape)\n",
    "print ('a[0] = {}, a[2] = {}'.format(a[0], a[2]))\n",
    "a[0] = 11\n",
    "print ('a =', a)"
   ]
  },
  {
   "cell_type": "markdown",
   "metadata": {},
   "source": [
    "Пример двумерного массива, то есть 2-го ранга. Массив инициализируется списком строк, каждая из которых представляет собой список элементов."
   ]
  },
  {
   "cell_type": "code",
   "execution_count": 4,
   "metadata": {
    "collapsed": true
   },
   "outputs": [
    {
     "name": "stdout",
     "output_type": "stream",
     "text": [
      "[[1 2 3]\n",
      " [4 5 6]]\n",
      "Форма b: (2, 3)\n",
      "b[0,0] = 1, b[0,1] = 2\n"
     ]
    }
   ],
   "source": [
    "b = np.array([[1, 2, 3], [4, 5, 6]])\n",
    "print (b)\n",
    "print ('Форма b:', b.shape)\n",
    "print ('b[0,0] = {}, b[0,1] = {}'.format(b[0,0], b[0,1]))"
   ]
  },
  {
   "cell_type": "markdown",
   "metadata": {},
   "source": [
    "Обратите внимание на то, что оба индекса указываются в одной паре скобок через запятую."
   ]
  },
  {
   "cell_type": "markdown",
   "metadata": {},
   "source": [
    "Для некоторых массивов специального вида есть отдельные функции:\n",
    "\n",
    "- zeros — массив нулей,\n",
    "- ones — массив единиц,\n",
    "- eye (или identity) — единичная матрица,\n",
    "- full — массив, заполненный указанной константой,\n",
    "- random — массив, заполненный случайными числами.\n",
    "\n",
    "Полный перечень команд для создания массивов можно посмотреть в документации.\n",
    "\n",
    "Почти все команды принимают в качестве обязательного аргумента форму массива в виде кортежа. Обратите внимание на двойную пару скобок! Первая пара ограничивает аргументы функции, а вторая — это кортеж."
   ]
  },
  {
   "cell_type": "code",
   "execution_count": 5,
   "metadata": {
    "collapsed": true
   },
   "outputs": [
    {
     "name": "stdout",
     "output_type": "stream",
     "text": [
      "[[ 0.  0.]\n",
      " [ 0.  0.]]\n"
     ]
    }
   ],
   "source": [
    "a = np.zeros((2, 2))\n",
    "print (a)"
   ]
  },
  {
   "cell_type": "code",
   "execution_count": 6,
   "metadata": {
    "collapsed": true
   },
   "outputs": [
    {
     "name": "stdout",
     "output_type": "stream",
     "text": [
      "[[ 1.  1.]]\n"
     ]
    }
   ],
   "source": [
    "b = np.ones((1, 2))\n",
    "print (b)"
   ]
  },
  {
   "cell_type": "code",
   "execution_count": 7,
   "metadata": {
    "collapsed": true
   },
   "outputs": [
    {
     "name": "stdout",
     "output_type": "stream",
     "text": [
      "[[ 5.]\n",
      " [ 5.]]\n"
     ]
    },
    {
     "name": "stderr",
     "output_type": "stream",
     "text": [
      "c:\\users\\aleks\\appdata\\local\\programs\\python\\python35-32\\lib\\site-packages\\numpy\\core\\numeric.py:301: FutureWarning: in the future, full((2, 1), 5) will return an array of dtype('int32')\n",
      "  format(shape, fill_value, array(fill_value).dtype), FutureWarning)\n"
     ]
    }
   ],
   "source": [
    "c = np.full((2, 1), 5)\n",
    "print (c)"
   ]
  },
  {
   "cell_type": "code",
   "execution_count": 8,
   "metadata": {
    "collapsed": true
   },
   "outputs": [
    {
     "name": "stdout",
     "output_type": "stream",
     "text": [
      "[[ 1.  0.  0.]\n",
      " [ 0.  1.  0.]\n",
      " [ 0.  0.  1.]]\n"
     ]
    }
   ],
   "source": [
    "d = np.eye(3) # Единичная матрица размера 3×3\n",
    "print (d)"
   ]
  },
  {
   "cell_type": "code",
   "execution_count": 9,
   "metadata": {
    "collapsed": true
   },
   "outputs": [
    {
     "name": "stdout",
     "output_type": "stream",
     "text": [
      "[[ 0.05210318  0.14826878  0.83432801]\n",
      " [ 0.51705698  0.24269328  0.80134703]\n",
      " [ 0.28753376  0.79883388  0.25431624]]\n"
     ]
    }
   ],
   "source": [
    "e = np.random.random((3, 3))\n",
    "print (e)"
   ]
  },
  {
   "cell_type": "markdown",
   "metadata": {},
   "source": [
    "Если нужен вектор, заполненный числами с некоторым шагом, то полезными могут оказаться функции `arange` и `linspace`. Первая работает аналогично стандартной функции `range` языка Python, а вторая равномерно разбивает отрезок указанным количеством точек."
   ]
  },
  {
   "cell_type": "code",
   "execution_count": 10,
   "metadata": {
    "collapsed": true
   },
   "outputs": [
    {
     "name": "stdout",
     "output_type": "stream",
     "text": [
      "[ 0.   0.1  0.2  0.3  0.4  0.5  0.6  0.7  0.8  0.9]\n",
      "[ 0.   0.1  0.2  0.3  0.4  0.5  0.6  0.7  0.8  0.9  1. ]\n"
     ]
    }
   ],
   "source": [
    "print (np.arange(0, 1, 0.1))\n",
    "print (np.linspace(0, 1, 11))"
   ]
  },
  {
   "cell_type": "markdown",
   "metadata": {},
   "source": [
    "### Индексирование\n",
    "\n",
    "Есть несколько способов получения элементов массива.\n",
    "\n",
    "#### Сечения\n",
    "\n",
    "Команды доступа к элементам не ограничиваются получением значения по индексу. Массивы позволяют получить сразу группу элементов с помощью диапалонов индексов (*сечений*), как это реализовано в списках.\n",
    "\n",
    "Сечение имеет вид: `[начало:конец:шаг]`. *Конец диапазона не включается.* Шаг — необязательный параметр. Если начало или конец совпадают с началом или концом диапазона индексов, то их тоже можно опустить."
   ]
  },
  {
   "cell_type": "code",
   "execution_count": 11,
   "metadata": {
    "collapsed": true
   },
   "outputs": [
    {
     "name": "stdout",
     "output_type": "stream",
     "text": [
      "[[ 1  2  3  4]\n",
      " [ 5  6  7  8]\n",
      " [ 9 10 11 12]]\n"
     ]
    }
   ],
   "source": [
    "a = np.array([[1, 2, 3, 4], [5, 6, 7, 8], [9, 10, 11, 12]])\n",
    "print (a)"
   ]
  },
  {
   "cell_type": "code",
   "execution_count": 12,
   "metadata": {
    "collapsed": true
   },
   "outputs": [
    {
     "name": "stdout",
     "output_type": "stream",
     "text": [
      "[[2 3]\n",
      " [6 7]]\n"
     ]
    }
   ],
   "source": [
    "print (a[0:2, 1:3]) # Строки до второй, столбцы от 1 до 2 (т.к. 3 не включается)"
   ]
  },
  {
   "cell_type": "code",
   "execution_count": 13,
   "metadata": {
    "collapsed": true
   },
   "outputs": [
    {
     "name": "stdout",
     "output_type": "stream",
     "text": [
      "[[ 1  3]\n",
      " [ 5  7]\n",
      " [ 9 11]]\n"
     ]
    }
   ],
   "source": [
    "print (a[:,::2]) # Все строки, чётные столбцы"
   ]
  },
  {
   "cell_type": "code",
   "execution_count": 14,
   "metadata": {
    "collapsed": true
   },
   "outputs": [
    {
     "name": "stdout",
     "output_type": "stream",
     "text": [
      "[1 2 3 4]\n"
     ]
    }
   ],
   "source": [
    "print (a[0, :]) # Строка № 0"
   ]
  },
  {
   "cell_type": "markdown",
   "metadata": {},
   "source": [
    "При сечении массива ранг может меняться."
   ]
  },
  {
   "cell_type": "code",
   "execution_count": 15,
   "metadata": {
    "collapsed": true
   },
   "outputs": [
    {
     "name": "stdout",
     "output_type": "stream",
     "text": [
      "[1 5 9]\n"
     ]
    }
   ],
   "source": [
    "print (a[:, 0]) # Столбец № 0 (в виде массива ранга 1)"
   ]
  },
  {
   "cell_type": "code",
   "execution_count": 16,
   "metadata": {
    "collapsed": true
   },
   "outputs": [
    {
     "name": "stdout",
     "output_type": "stream",
     "text": [
      "[[1]\n",
      " [5]\n",
      " [9]]\n"
     ]
    }
   ],
   "source": [
    "print (a[:, 0:1]) # Столбец № 0 (в виде массива ранга 2)"
   ]
  },
  {
   "cell_type": "markdown",
   "metadata": {},
   "source": [
    "#### Индексирование массива массивом\n",
    "\n",
    "Если вместо индекса указать массив индексов, то это позволит получить сразу группу интересующих элементов."
   ]
  },
  {
   "cell_type": "code",
   "execution_count": 17,
   "metadata": {
    "collapsed": true
   },
   "outputs": [
    {
     "name": "stdout",
     "output_type": "stream",
     "text": [
      "[12 14 15]\n"
     ]
    }
   ],
   "source": [
    "a = np.array([10, 11, 12, 13, 14, 15, 16])\n",
    "print (a[[2, 4, 5]]) # Элементы с номерами 2, 4, 5"
   ]
  },
  {
   "cell_type": "markdown",
   "metadata": {},
   "source": [
    "#### Индексирование логическими значениями\n",
    "\n",
    "Также массив можно индексировать массивом такой же длины, содержащим только логические значения. Это позволяет задать маску или фильтр: будут отобраны только те элементы, которым соответствует истина."
   ]
  },
  {
   "cell_type": "code",
   "execution_count": 18,
   "metadata": {
    "collapsed": true
   },
   "outputs": [
    {
     "name": "stdout",
     "output_type": "stream",
     "text": [
      "[ -5 -12]\n"
     ]
    }
   ],
   "source": [
    "a = np.array([-5, 10, -12, 3])\n",
    "print (a[np.array([True, False, True, False])]) # Отбираем отрицательные числа вручную"
   ]
  },
  {
   "cell_type": "markdown",
   "metadata": {},
   "source": [
    "Маску обычно не задают вручную, а получают её как результат выполнения логических операций."
   ]
  },
  {
   "cell_type": "code",
   "execution_count": 19,
   "metadata": {
    "collapsed": true
   },
   "outputs": [
    {
     "name": "stdout",
     "output_type": "stream",
     "text": [
      "[ True False  True False]\n"
     ]
    }
   ],
   "source": [
    "print (a < 0)"
   ]
  },
  {
   "cell_type": "code",
   "execution_count": 20,
   "metadata": {
    "collapsed": true
   },
   "outputs": [
    {
     "name": "stdout",
     "output_type": "stream",
     "text": [
      "[ -5 -12]\n"
     ]
    }
   ],
   "source": [
    "print (a[a<0])"
   ]
  },
  {
   "cell_type": "markdown",
   "metadata": {},
   "source": [
    "### Типы данных\n",
    "\n",
    "Каждый массив содержит элементы одного и того же типа. Numpy поддерживает большое количество типов, из которых можно конструировать массивы. Если тип не указан, библиотека пытается «угадать» его. Например, если в конструкторе использовались только целые числа, то и тип будет целочисленным. Но тип можно указать и явно в параметре `dtype`."
   ]
  },
  {
   "cell_type": "code",
   "execution_count": 21,
   "metadata": {
    "collapsed": true
   },
   "outputs": [
    {
     "name": "stdout",
     "output_type": "stream",
     "text": [
      "int32\n"
     ]
    }
   ],
   "source": [
    "x = np.array([1, 2])\n",
    "print (x.dtype)"
   ]
  },
  {
   "cell_type": "code",
   "execution_count": 22,
   "metadata": {
    "collapsed": true
   },
   "outputs": [
    {
     "name": "stdout",
     "output_type": "stream",
     "text": [
      "float64\n"
     ]
    }
   ],
   "source": [
    "x = np.array([1.0, 2.0])\n",
    "print (x.dtype)"
   ]
  },
  {
   "cell_type": "code",
   "execution_count": 23,
   "metadata": {
    "collapsed": true
   },
   "outputs": [
    {
     "name": "stdout",
     "output_type": "stream",
     "text": [
      "float32\n"
     ]
    }
   ],
   "source": [
    "x = np.array([1, 2], dtype=np.float32)\n",
    "print (x.dtype)"
   ]
  },
  {
   "cell_type": "markdown",
   "metadata": {},
   "source": [
    "### Матричная арифметика\n",
    "\n",
    "Массивы поддерживают обычные арифметические операции: сложение, вычитание, умножение и деление. При этом *операции выполняются поэлементно*."
   ]
  },
  {
   "cell_type": "code",
   "execution_count": 24,
   "metadata": {
    "collapsed": true
   },
   "outputs": [
    {
     "name": "stdout",
     "output_type": "stream",
     "text": [
      "[[ 1  2]\n",
      " [ 3 -1]]\n",
      "\n",
      "[[-3  2]\n",
      " [-5  7]]\n"
     ]
    }
   ],
   "source": [
    "A = np.array([[1, 2], [3, -1]])\n",
    "B = np.array([[-3, 2], [-5, 7]])\n",
    "print (A)\n",
    "print () # Пустая строка\n",
    "print (B)"
   ]
  },
  {
   "cell_type": "code",
   "execution_count": 25,
   "metadata": {
    "collapsed": true
   },
   "outputs": [
    {
     "name": "stdout",
     "output_type": "stream",
     "text": [
      "[[-2  4]\n",
      " [-2  6]]\n"
     ]
    }
   ],
   "source": [
    "print (A + B)"
   ]
  },
  {
   "cell_type": "code",
   "execution_count": 26,
   "metadata": {
    "collapsed": true
   },
   "outputs": [
    {
     "name": "stdout",
     "output_type": "stream",
     "text": [
      "[[ 4  0]\n",
      " [ 8 -8]]\n"
     ]
    }
   ],
   "source": [
    "print (A - B)"
   ]
  },
  {
   "cell_type": "code",
   "execution_count": 27,
   "metadata": {
    "collapsed": true
   },
   "outputs": [
    {
     "name": "stdout",
     "output_type": "stream",
     "text": [
      "[[ -3   4]\n",
      " [-15  -7]]\n"
     ]
    }
   ],
   "source": [
    "print (A * B)"
   ]
  },
  {
   "cell_type": "code",
   "execution_count": 28,
   "metadata": {
    "collapsed": true
   },
   "outputs": [
    {
     "name": "stdout",
     "output_type": "stream",
     "text": [
      "[[-0.33333333  1.        ]\n",
      " [-0.6        -0.14285714]]\n"
     ]
    }
   ],
   "source": [
    "print (A / B)"
   ]
  },
  {
   "cell_type": "markdown",
   "metadata": {},
   "source": [
    "Также есть возможность поэлементно применять математические функции."
   ]
  },
  {
   "cell_type": "code",
   "execution_count": 29,
   "metadata": {
    "collapsed": true
   },
   "outputs": [
    {
     "name": "stdout",
     "output_type": "stream",
     "text": [
      "[[ 1.          1.41421356]\n",
      " [ 1.73205081  2.        ]]\n"
     ]
    }
   ],
   "source": [
    "C = np.array([[1, 2], [3, 4]])\n",
    "print (np.sqrt(C))"
   ]
  },
  {
   "cell_type": "markdown",
   "metadata": {},
   "source": [
    "Для матричного умножения используется либо функция `dot`, либо одноимённый метод."
   ]
  },
  {
   "cell_type": "code",
   "execution_count": 30,
   "metadata": {
    "collapsed": true
   },
   "outputs": [
    {
     "name": "stdout",
     "output_type": "stream",
     "text": [
      "[[-13  16]\n",
      " [ -4  -1]]\n"
     ]
    }
   ],
   "source": [
    "print (np.dot(A, B))"
   ]
  },
  {
   "cell_type": "code",
   "execution_count": 31,
   "metadata": {
    "collapsed": true
   },
   "outputs": [
    {
     "name": "stdout",
     "output_type": "stream",
     "text": [
      "[[-13  16]\n",
      " [ -4  -1]]\n"
     ]
    }
   ],
   "source": [
    "print (A.dot(B))"
   ]
  },
  {
   "cell_type": "markdown",
   "metadata": {},
   "source": [
    "Транспонированную матрицу можно получить при помощи свойства `T`."
   ]
  },
  {
   "cell_type": "code",
   "execution_count": 32,
   "metadata": {
    "collapsed": true
   },
   "outputs": [
    {
     "name": "stdout",
     "output_type": "stream",
     "text": [
      "[[ 1  3]\n",
      " [ 2 -1]]\n"
     ]
    }
   ],
   "source": [
    "print (A.T)"
   ]
  },
  {
   "cell_type": "markdown",
   "metadata": {},
   "source": [
    "Однако заметьте, что транспонирование матрицы ранга 1 не меняет её."
   ]
  },
  {
   "cell_type": "code",
   "execution_count": 33,
   "metadata": {
    "collapsed": true
   },
   "outputs": [
    {
     "name": "stdout",
     "output_type": "stream",
     "text": [
      "[1 2 3]\n",
      "[1 2 3]\n"
     ]
    }
   ],
   "source": [
    "X = np.array([1, 2, 3])\n",
    "print(X)\n",
    "print(X.T)"
   ]
  },
  {
   "cell_type": "markdown",
   "metadata": {},
   "source": [
    "### Изменение размеров матриц\n",
    "\n",
    "Часто бывает полезно тем или иным образом изменить размеры матрицы. Например, если требуется к каждой строке матрицы $A$ прибавить вектор-строку $v$. В этом случае можно многократно продублировать вектор-строку, превратив её в матрицу, пригодную для сложения с $A$. Это можно сделать с помощью функции `tile`."
   ]
  },
  {
   "cell_type": "code",
   "execution_count": 34,
   "metadata": {
    "collapsed": true
   },
   "outputs": [
    {
     "name": "stdout",
     "output_type": "stream",
     "text": [
      "[[1 2 3 1 2 3 1 2 3]\n",
      " [1 2 3 1 2 3 1 2 3]\n",
      " [1 2 3 1 2 3 1 2 3]\n",
      " [1 2 3 1 2 3 1 2 3]]\n"
     ]
    }
   ],
   "source": [
    "v = np.array([1, 2, 3])\n",
    "vv = np.tile(v, (4, 3)) # 4 повтора по вертикали и один по горизонтали\n",
    "print (vv)"
   ]
  },
  {
   "cell_type": "markdown",
   "metadata": {},
   "source": [
    "Оказывается полезным и построчное переписывание элементов массива в массив другой формы с помощью функции `reshape`."
   ]
  },
  {
   "cell_type": "code",
   "execution_count": 35,
   "metadata": {
    "collapsed": true
   },
   "outputs": [
    {
     "name": "stdout",
     "output_type": "stream",
     "text": [
      "[[1 2 3]\n",
      " [4 5 6]]\n"
     ]
    }
   ],
   "source": [
    "D1 = np.array([[1, 2, 3], [4, 5, 6]])\n",
    "print (D1)"
   ]
  },
  {
   "cell_type": "code",
   "execution_count": 36,
   "metadata": {
    "collapsed": true
   },
   "outputs": [
    {
     "name": "stdout",
     "output_type": "stream",
     "text": [
      "[[1 2]\n",
      " [3 4]\n",
      " [5 6]]\n"
     ]
    }
   ],
   "source": [
    "D2 = np.reshape(D1, (3, 2))\n",
    "print (D2)"
   ]
  },
  {
   "cell_type": "markdown",
   "metadata": {},
   "source": [
    "### Линейная алгебра\n",
    "\n",
    "В подбиблиотеке numpy.linalg находятся полезные функции, для работы с матрицами. Например:\n",
    "\n",
    "- `linalg.cholesky` — разложение Холецкого,\n",
    "- `linalg.qr` — QR-разложение,\n",
    "- `linalg.svd` — сингулярное матричное разложение,\n",
    "- `linalg.eig` — поиск собственных значений и векторов,\n",
    "- `linalg.det` — определитель матрицы,\n",
    "- `linalg.norm` — норма матрицы,\n",
    "- `linalg.inv` — обратная матрица,\n",
    "- `linalg.pinv` — псевдообратная матрица,\n",
    "- `linalg.solve` — решение системы линейных уравнений, заданной в матричном виде.\n",
    "\n",
    "Например, найдём определитель\n",
    "$$\\left|\n",
    "\\begin{array}{cc}\n",
    "1 & 2 \\\\\n",
    "-2 & 3\n",
    "\\end{array}\n",
    "\\right|.$$"
   ]
  },
  {
   "cell_type": "code",
   "execution_count": 37,
   "metadata": {
    "collapsed": true
   },
   "outputs": [
    {
     "name": "stdout",
     "output_type": "stream",
     "text": [
      "[[ 1  2]\n",
      " [-2  3]]\n"
     ]
    }
   ],
   "source": [
    "A = np.array([[1, 2], [-2, 3]])\n",
    "print(A)"
   ]
  },
  {
   "cell_type": "code",
   "execution_count": 38,
   "metadata": {
    "collapsed": true
   },
   "outputs": [
    {
     "name": "stdout",
     "output_type": "stream",
     "text": [
      "7.0\n"
     ]
    }
   ],
   "source": [
    "print (np.linalg.det(A))"
   ]
  },
  {
   "cell_type": "markdown",
   "metadata": {},
   "source": [
    "Решим систему уравнений\n",
    "$$\n",
    "\\left\\{\n",
    "\\begin{array}{ll}\n",
    "3x + y &= 2, \\\\\n",
    " x - y &= 3.\n",
    "\\end{array}\n",
    "\\right.\n",
    "$$"
   ]
  },
  {
   "cell_type": "code",
   "execution_count": 39,
   "metadata": {
    "collapsed": true
   },
   "outputs": [
    {
     "name": "stdout",
     "output_type": "stream",
     "text": [
      "[ 1.25 -1.75]\n"
     ]
    }
   ],
   "source": [
    "A = np.array([[3, 1], [1, -1]])\n",
    "b = np.array([2, 3])\n",
    "x = np.linalg.solve(A, b)\n",
    "print(x)"
   ]
  },
  {
   "cell_type": "markdown",
   "metadata": {},
   "source": [
    "Решение системы уравнений с помощью `solve` вычислительно более выгодно, чем применение обратных матриц, хотя их тоже можно использовать для решения."
   ]
  },
  {
   "cell_type": "markdown",
   "metadata": {},
   "source": [
    "## Библиотка SciPy\n",
    "\n",
    "Выше рассмотрена лишь малая часть множества функций NumPy. И без того богатые возможности этой библиотеки значительно расширяет билиотека SciPy, содержащая следующие основные подбиблиотеки:\n",
    "\n",
    "- `scipy.special` — специальные функции,\n",
    "- `scipy.integrate` — интегрирование,\n",
    "- `scipy.optimize` — оптимизация,\n",
    "- `scipy.interpolate` — интерполяция,\n",
    "- `scipy.fftpack` — преобразование Фурье,\n",
    "- `scipy.signal` — обработка сигналов,\n",
    "- `scipy.linalg` — линейная алгебра,\n",
    "- `scipy.stats` — статистика,\n",
    "- `scipy.io` — файловый ввод/вывод и другие.\n",
    "\n",
    "### Загрузка и сохранение матриц\n",
    "\n",
    "При работе с большими матрицами неудобно объявлять их в программном коде. Также полезно иметь возможность сохранять на диск результаты вычислений, чтобы можно было вернуться к ним в дальнейшем.\n",
    "\n",
    "Одним из популярных форматов хранения матриц на диске являются mat-файлы, используемые в системе Matlab. Файлы этого формата могут хранить несколько матриц как архив. Для работы с ними в библиотеке `scipy.io` предусмотрены функции `loadmat` и `savemat`."
   ]
  },
  {
   "cell_type": "code",
   "execution_count": 1,
   "metadata": {
    "collapsed": false
   },
   "outputs": [
    {
     "name": "stdout",
     "output_type": "stream",
     "text": [
      "[[1 2]\n",
      " [3 4]]\n"
     ]
    }
   ],
   "source": [
    "import numpy as np\n",
    "A = np.array([[1, 2], [3, 4]])\n",
    "print (A)"
   ]
  },
  {
   "cell_type": "code",
   "execution_count": 2,
   "metadata": {
    "collapsed": false
   },
   "outputs": [],
   "source": [
    "import scipy.io as sio\n",
    "sio.savemat ('data.mat', {'A': A}) # Указано имя файла, имя матрицы в архиве и сама матрица"
   ]
  },
  {
   "cell_type": "code",
   "execution_count": 4,
   "metadata": {
    "collapsed": false
   },
   "outputs": [
    {
     "name": "stdout",
     "output_type": "stream",
     "text": [
      "[[1 2]\n",
      " [3 4]]\n"
     ]
    }
   ],
   "source": [
    "B = sio.loadmat('data.mat')['A'] # Загружаем матрицу под именем A и помещаем в переменную B\n",
    "print (B)"
   ]
  },
  {
   "cell_type": "markdown",
   "metadata": {},
   "source": [
    "### Оптимизация и поиск корней\n",
    "\n",
    "Очень полезна на практике подбиблиотека для оптимизации `scipy.optimize`. В ней реализованы функции для поиска безусловных и условных экстремумов различными методами."
   ]
  },
  {
   "cell_type": "code",
   "execution_count": 28,
   "metadata": {
    "collapsed": false
   },
   "outputs": [],
   "source": [
    "import scipy.optimize as so"
   ]
  },
  {
   "cell_type": "markdown",
   "metadata": {},
   "source": [
    "Например, найдём минимум функции $$f(x) = (x - 5)^2 + 3$$ широко распространённым методом Бройдена — Флетчера — Гольдфарба — Шанно (BFGS)."
   ]
  },
  {
   "cell_type": "code",
   "execution_count": 29,
   "metadata": {
    "collapsed": true
   },
   "outputs": [],
   "source": [
    "def f(x):\n",
    "    return (x - 5) ** 2 + 3"
   ]
  },
  {
   "cell_type": "code",
   "execution_count": 30,
   "metadata": {
    "collapsed": false
   },
   "outputs": [
    {
     "name": "stdout",
     "output_type": "stream",
     "text": [
      "     njev: 4\n",
      "      fun: 3.0\n",
      "   status: 0\n",
      "      jac: array([ 0.])\n",
      "  success: True\n",
      " hess_inv: array([[ 0.5]])\n",
      "        x: array([ 4.99999999])\n",
      "     nfev: 12\n",
      "  message: 'Optimization terminated successfully.'\n",
      "      nit: 2\n"
     ]
    }
   ],
   "source": [
    "x_min = so.minimize(f, 0.0, method='BFGS') # 0.0 — начальная точка\n",
    "print (x_min)"
   ]
  },
  {
   "cell_type": "markdown",
   "metadata": {},
   "source": [
    "Точка минимума получилась равной 4.99999999, что близко к правильному значению.\n",
    "\n",
    "Рассмотренный метод — квазиньютоновский и использует для поиска минимума производные, которые по умолчанию находит численно. Можно значительно ускорить вычисления и повысить их точность, задав их явно.\n",
    "\n",
    "$$f'(x) = 2 (x - 5)$$"
   ]
  },
  {
   "cell_type": "code",
   "execution_count": null,
   "metadata": {
    "collapsed": true
   },
   "outputs": [],
   "source": [
    "def df(x):\n",
    "    d = 2 * (x - 5)\n",
    "    return np.array([d])\n",
    "x_min = so.minimize(f, 0.0, method='BFGS', jac=df) # jac — якобиан, в 1-мерном случае — производная\n",
    "print (x_min)"
   ]
  },
  {
   "cell_type": "markdown",
   "metadata": {},
   "source": [
    "Функция `minimize` достаточно универсальна и позволяет находить минимумы функций нескольких переменных с помощью множества других методов, среди которых: `BFGS`, `L-BFGS-B`, `Nelder-Mead`, `Powell`, `CG` (метод сопряжённых градиентов), `COBYLA`, `SLSQP` и другие. Имеет смысл ознакомиться с областями применения этих методов для эффективного использования в дальнейшем.\n",
    "\n",
    "В библиотеке есть несколько функций для глобальной оптимизации. Например, в функции `differential_evolution` реализован метод дифференциальной эволюции.\n",
    "\n",
    "Для поиска корней реализовано несколько методов, среди которых  методы: Ньютона — Рафсона, Брента, Бройдена и другие.\n",
    "\n",
    "Все методы для поиска нулей многомерных функций объединены в единой функции `root`. Можно и использовать отдельные функции для методов.\n",
    "\n",
    "Например, найдём корень уравнения $$x^5 + 2x - 10 = 0$$ на отрезке $[-10, 10].$"
   ]
  },
  {
   "cell_type": "code",
   "execution_count": null,
   "metadata": {
    "collapsed": true
   },
   "outputs": [],
   "source": [
    "def f(x):\n",
    "    return x**5 + 2*x - 10"
   ]
  },
  {
   "cell_type": "code",
   "execution_count": null,
   "metadata": {
    "collapsed": true
   },
   "outputs": [],
   "source": [
    "x0 = so.brentq(f, -10, 10)\n",
    "print (x0)"
   ]
  },
  {
   "cell_type": "markdown",
   "metadata": {},
   "source": [
    "Проверим подстановкой."
   ]
  },
  {
   "cell_type": "code",
   "execution_count": null,
   "metadata": {
    "collapsed": true
   },
   "outputs": [],
   "source": [
    "print (f(x0))"
   ]
  },
  {
   "cell_type": "markdown",
   "metadata": {},
   "source": [
    "Получили величину $6{,}57\\times10^{-14}$, близкую к нулю.\n",
    "\n",
    "Библиотека позволяет находить и условные минимумы. Например, функция `linprog` позволяет решать задачу линейного программирования симплексным методом."
   ]
  },
  {
   "cell_type": "markdown",
   "metadata": {},
   "source": [
    "## Библиотека Matplotlib\n",
    "\n",
    "Для построения графиков может использоваться библиотека Matplotlib. У неё очень богатые воможности, не все из которых обычно нужны, поэтому часто пользуются упрощёнными функциями, объявленные в подбиблиотеке `pyplot`. Её можно подключить следующим образом."
   ]
  },
  {
   "cell_type": "code",
   "execution_count": 28,
   "metadata": {
    "collapsed": true
   },
   "outputs": [],
   "source": [
    "import matplotlib.pyplot as plt"
   ]
  },
  {
   "cell_type": "markdown",
   "metadata": {},
   "source": [
    "Для того, чтобы графики отображались прямо в документе IPython Notebook нужно выполнить специальную команду."
   ]
  },
  {
   "cell_type": "code",
   "execution_count": 29,
   "metadata": {
    "collapsed": true
   },
   "outputs": [],
   "source": [
    "%matplotlib inline"
   ]
  },
  {
   "cell_type": "markdown",
   "metadata": {},
   "source": [
    "Важнейшая функция для построения графиков — функция `plot`, которая похожа на аналогичную команду Matlab. Она строит графики по точкам, абсциссы и ординаты которых заданы двумя векторами."
   ]
  },
  {
   "cell_type": "code",
   "execution_count": 30,
   "metadata": {
    "collapsed": false
   },
   "outputs": [
    {
     "data": {
      "image/png": "[encoded data removed]",
      "text/plain": [
       "<matplotlib.figure.Figure at 0x94f1b0>"
      ]
     },
     "metadata": {},
     "output_type": "display_data"
    }
   ],
   "source": [
    "x = np.linspace(0, 1, 100)\n",
    "y = np.sin(x)\n",
    "plt.plot(x, y) # Построение графика\n",
    "plt.show()     # Отобразить график"
   ]
  },
  {
   "cell_type": "markdown",
   "metadata": {},
   "source": [
    "У функции можно указать дополнительный параметр, позволяющий указать цвет и тип линии/символов в виде буквенного кода.\n",
    "\n",
    "Например, для отображения графика красными крестиками можно использовать параметр `'xr'` (x — крестик, r — red, красный)."
   ]
  },
  {
   "cell_type": "code",
   "execution_count": 31,
   "metadata": {
    "collapsed": false
   },
   "outputs": [
    {
     "data": {
      "image/png": "[encoded data removed]",
      "text/plain": [
       "<matplotlib.figure.Figure at 0x988290>"
      ]
     },
     "metadata": {},
     "output_type": "display_data"
    }
   ],
   "source": [
    "x = np.linspace(0, 6*np.pi, 50)\n",
    "y = np.sin(x)\n",
    "plt.plot(x, y, 'xr')\n",
    "plt.show()"
   ]
  },
  {
   "cell_type": "markdown",
   "metadata": {},
   "source": [
    "Две команды `plot` позволяют получить наложенные графики. Также график, который ещё не отображён с помощью `show` можно модифицировать, добавив подписи осей (`xlabel`, `ylabel`), заголовок (`title`), легенду (`legend`).\n",
    "\n",
    "К сожалению, в шрифте по умолчанию нет букв кириллицы, поэтому нужно с помощью команды `rc` задать другой шрифт."
   ]
  },
  {
   "cell_type": "code",
   "execution_count": 32,
   "metadata": {
    "collapsed": false
   },
   "outputs": [],
   "source": [
    "from matplotlib import rc\n",
    "rc('font', family='Verdana')"
   ]
  },
  {
   "cell_type": "code",
   "execution_count": 33,
   "metadata": {
    "collapsed": false
   },
   "outputs": [
    {
     "data": {
      "image/png": "[encoded data removed]",
      "text/plain": [
       "<matplotlib.figure.Figure at 0x9bea30>"
      ]
     },
     "metadata": {},
     "output_type": "display_data"
    }
   ],
   "source": [
    "x = np.linspace(0, 6*np.pi, 100)\n",
    "y1 = np.sin(x)\n",
    "y2 = np.cos(x)\n",
    "\n",
    "plt.plot(x, y1, ':r')\n",
    "plt.plot(x, y2, '-.b')\n",
    "\n",
    "plt.xlabel('x')\n",
    "plt.ylabel('sin(x), cos(x)')\n",
    "\n",
    "plt.legend(['Синус', 'Косинус']) # Названия в порядке отображения графиков\n",
    "\n",
    "plt.title('Синус и косинус')\n",
    "\n",
    "plt.show()"
   ]
  },
  {
   "cell_type": "markdown",
   "metadata": {},
   "source": [
    "Если нужно разбить график на части, то перед командами `plot` каждой части выполняется команда `subplot`. Её аргументы — количество строк, количество столбцов и номер части в разбиении. Например, если нужно разбить график вертикально, то получаем «таблицу» из двух строк и одного столбца, в ячейках которой располагаются графики. Поэтому параметрами команды будут `(2, 1, 1)` и `(2, 1, 2)`."
   ]
  },
  {
   "cell_type": "code",
   "execution_count": 36,
   "metadata": {
    "collapsed": false
   },
   "outputs": [
    {
     "data": {
      "image/png": "[encoded data removed]",
      "text/plain": [
       "<matplotlib.figure.Figure at 0xb6fa50>"
      ]
     },
     "metadata": {},
     "output_type": "display_data"
    }
   ],
   "source": [
    "x = np.linspace(0, 6*np.pi, 100)\n",
    "y1 = np.sin(x)\n",
    "y2 = np.cos(x)\n",
    "\n",
    "plt.subplot(2,1,1)\n",
    "plt.plot(x, y1)\n",
    "\n",
    "plt.subplot(2,1,2)\n",
    "plt.plot(x, y2)\n",
    "\n",
    "plt.show()"
   ]
  },
  {
   "cell_type": "markdown",
   "metadata": {},
   "source": [
    "## Библиотека Pandas\n",
    "\n",
    "С «сырыми» данными в виде матриц работать не всегда удобно. Например, если данные о квартирах записаны в виде матрицы, где разные столбцы соответствуют разным параметрам (цена, площадь и т. д.), то нужно помнить, какой столбец чему соответствует.\n",
    "\n",
    "Библиотека Pandas позволяет работать со структурированными данными. Например, с её помощью можно пометить столбцы в матрице.\n",
    "\n",
    "Для начала подключим библиотеку."
   ]
  },
  {
   "cell_type": "code",
   "execution_count": null,
   "metadata": {
    "collapsed": true
   },
   "outputs": [],
   "source": [
    "import pandas as pd"
   ]
  },
  {
   "cell_type": "markdown",
   "metadata": {},
   "source": [
    "Контейнером, содержищим размеченные данные являются объекты типа `DataFrame`. Элементами такого контейнера (фрейма) могут быть последовательности (`Series`), категории (произвольные классы, `Categorical`), массивы Numpy т. д.\n",
    "\n",
    "Например, рассмотрим фрейм, содержащий информацию о покупках квартир."
   ]
  },
  {
   "cell_type": "code",
   "execution_count": null,
   "metadata": {
    "collapsed": true
   },
   "outputs": [],
   "source": [
    "apartments = pd.DataFrame(\n",
    "    {\n",
    "        'Дата': pd.Series([pd.Timestamp('2012-03-11'), pd.Timestamp('2014-12-26'), pd.Timestamp('2013-05-18')]),\n",
    "        'Число комнат': [2, 3, 2],\n",
    "        'Стоимость': np.array([17000, 24000, 18000]),\n",
    "        'Район': pd.Categorical(['Центр', 'Западный', 'Центр'])\n",
    "    }\n",
    ")"
   ]
  },
  {
   "cell_type": "markdown",
   "metadata": {},
   "source": [
    "Фреймы удобно просматривать с помощью команды `print`. Если данных много, то можно использовать методы `head` (первые строки) и `tail` (последние строки)."
   ]
  },
  {
   "cell_type": "code",
   "execution_count": null,
   "metadata": {
    "collapsed": true
   },
   "outputs": [],
   "source": [
    "print(apartments)"
   ]
  },
  {
   "cell_type": "code",
   "execution_count": null,
   "metadata": {
    "collapsed": true
   },
   "outputs": [],
   "source": [
    "print(apartments.head())"
   ]
  },
  {
   "cell_type": "markdown",
   "metadata": {},
   "source": [
    "В среде разработки IPython можно не писать `print`, если ячейка с кодом содержит только имя объекта. Библиотека распознаёт такую ситуацию, и в этом случае фрейм выводится оформленным в виде таблицы."
   ]
  },
  {
   "cell_type": "code",
   "execution_count": null,
   "metadata": {
    "collapsed": true
   },
   "outputs": [],
   "source": [
    "apartments"
   ]
  },
  {
   "cell_type": "markdown",
   "metadata": {},
   "source": [
    "Если нужны определённые столбцы, то можно индексировать фрейм их именами. Свойство `values` позволяет получить результат не в виде массива Numpy, а не в виде нового фрейма."
   ]
  },
  {
   "cell_type": "code",
   "execution_count": null,
   "metadata": {
    "collapsed": true
   },
   "outputs": [],
   "source": [
    "print(apartments[['Стоимость', 'Число комнат']].values)"
   ]
  },
  {
   "cell_type": "markdown",
   "metadata": {},
   "source": [
    "Библиотека содержит богатые средства анализа данных. Можно посмотреть как основные статистические характеристики (метод `describe`), так и делать выборки по столбцам, строкам, анализировать их параметры, делать запросы к нескольким таблицам сразу."
   ]
  },
  {
   "cell_type": "code",
   "execution_count": null,
   "metadata": {
    "collapsed": true
   },
   "outputs": [],
   "source": [
    "apartments.describe()"
   ]
  },
  {
   "cell_type": "markdown",
   "metadata": {},
   "source": [
    "С помощью библиотеки легко строить зависимости одной величины от другой."
   ]
  },
  {
   "cell_type": "code",
   "execution_count": null,
   "metadata": {
    "collapsed": true
   },
   "outputs": [],
   "source": [
    "apartments.plot('Дата', 'Стоимость')\n",
    "plt.show()"
   ]
  },
  {
   "cell_type": "markdown",
   "metadata": {},
   "source": [
    "Большие объёмы данных, разумеется, не вводятся вручную, как в рассмотренном выше примере. Библиотека поддерживает загрузку и сохранение данных во многих распространённых форматах:\n",
    "- CSV (текствые документы, с данными разделёнными «,» или «;»),\n",
    "- HDF5 (один из самых распространённых форматов хранения больших объёмов цифровых данных),\n",
    "- Excel (файлы в формате xlsx) и другие.\n",
    "\n",
    "Также есть возможность получать данные в виде SQL-запросов к СУБД. Для сохранения в некоторые форматы могут потребоваться дополнительные библиотеки.\n",
    "\n",
    "Для примера сохраним рассмотренный фрейм в различных форматах."
   ]
  },
  {
   "cell_type": "code",
   "execution_count": null,
   "metadata": {
    "collapsed": true
   },
   "outputs": [],
   "source": [
    "apartments.to_csv('apartments.csv')\n",
    "apartments.to_excel('apartments.xlsx', sheet_name='Квартиры') # Параметр sheet_name задаёт имя листа\n",
    "apartments.to_html('apartments.html')"
   ]
  },
  {
   "cell_type": "markdown",
   "metadata": {},
   "source": [
    "Для загрузки данных, например, из документа Excel нужно использовать метод `read_excel`."
   ]
  },
  {
   "cell_type": "code",
   "execution_count": null,
   "metadata": {
    "collapsed": true
   },
   "outputs": [],
   "source": [
    "apts = pd.read_excel('apartments.xlsx', 'Квартиры')"
   ]
  },
  {
   "cell_type": "code",
   "execution_count": null,
   "metadata": {
    "collapsed": true
   },
   "outputs": [],
   "source": [
    "apts"
   ]
  },
  {
   "cell_type": "markdown",
   "metadata": {},
   "source": [
    "## Источники\n",
    "Подробную информацию о рассмотренных библиотеках можно найти в следующих источниках.\n",
    "\n",
    "1. [Getting started with Python for science (англ.)](https://scipy-lectures.github.io/intro/index.html)\n",
    "* [NumPy — Документация (англ.)](http://docs.scipy.org/doc/numpy/reference/)\n",
    "* [SciPy — Документация (англ.)](http://docs.scipy.org/doc/scipy/reference/)\n",
    "* [Matplotlib — Документация (англ.)](http://matplotlib.org/contents.html)\n",
    "* [NumPy, пособие для новичков](http://habrahabr.ru/post/121031/)\n",
    "* [Серия статей о NumPy](http://pythonworld.ru/numpy)\n",
    "* [10 Minutes to pandas](http://pandas.pydata.org/pandas-docs/stable/10min.html)"
   ]
  },
  {
   "cell_type": "markdown",
   "metadata": {},
   "source": [
    "## Задание для самостоятельного выполнения\n",
    "\n",
    "1. Объявить следующие матрицы и векторы:\n",
    "$$A = \\left(\n",
    "\\begin{array}{rrr}\n",
    "1 & 2 & 3\\\\\n",
    "-2 & 3 & 0\\\\\n",
    "5 & 1 & 4\n",
    "\\end{array}\n",
    "\\right),\n",
    "B = \\left(\n",
    "\\begin{array}{rrr}\n",
    "1 & 2 & 3\\\\\n",
    "2 & 4 & 6\\\\\n",
    "3 & 7 & 2\n",
    "\\end{array}\n",
    "\\right),\n",
    "u = \\left(\n",
    "\\begin{array}{r}\n",
    "-4\\\\\n",
    "1\\\\\n",
    "1\\end{array}\n",
    "\\right),\n",
    "v = \\left(\n",
    "\\begin{array}{r}\n",
    "3\\\\\n",
    "2\\\\\n",
    "10\\end{array}\n",
    "\\right).\n",
    "$$\n",
    "* Объявить случайную матрицу $C$ (100x100) и случайный вектор $w$ (100×1).\n",
    "* Вычислить выражения (здесь умножение матричное)\n",
    "$$A + B, AB, A^3, ABA, v^TA^T(u+2v), u\\cdot v, Cw, w^TC.$$\n",
    "* Построить матрицу размера $20×20$, элементы которой равны произведениям индексов. Как это сделать без использования циклов?\n",
    "* Сохранить матрицы и векторы в один общий файл. Для проверки загрузить матрицы из файла.\n",
    "* Найти сумму положительных элементов матриц $A$ и $B$.\n",
    "* Записать элементы матрицы $A$ в одну строку и выбрать из них только стоящие на чётных позициях.\n",
    "* Найти обратные и псевдообратные матрицы для $A$, $B$ и $С$. Проверить правильность вычислений умножением.\n",
    "* Решить систему уравнений\n",
    "$$\n",
    "\\left\\{\n",
    "\\begin{array}{rrrr}\n",
    "32x_1  &+7x_2  &-6x_3 &= 12, \\\\\n",
    "-5x_1  &-20x_2 &+3x_3 &= 3, \\\\\n",
    "       & x_2   &-3x_3 &= 7.\n",
    "\\end{array}\n",
    "\\right.\n",
    "$$\n",
    "Проверить решение подстановкой.\n",
    "* Найти собственные значения и собственные векторы матриц $A$ и $B$. (Если для некоторой матрицы $M$ выполняется условие $Mx=\\lambda x,$ то вектор $x$ и число $\\lambda$ называются собственными вектором и числом матрицы.)\n",
    "* Найти минимумы функций\n",
    "$$f_1(x) = 5(x-2)^4 - \\frac1{x^2+8},$$\n",
    "$$f_2(x_1, x_2) = 4(x_1-3x_2)^2+7x_1^4.$$\n",
    "* Построить графики функций в одной системе координат\n",
    "$$g_1(x)=x^5-2x^4+3x-7,$$\n",
    "$$g_2(x)=x^5+2x^4-3x-7.$$\n",
    "Подписать оси, указать заголовок и отобразить легенду.\n",
    "* Построить графики этих же функций в двух системах координат: одна слева, другая справа.\n",
    "* Найти по одному из нулей каждой из функций $g_1$ и $g_2$."
   ]
  },
  {
   "cell_type": "markdown",
   "metadata": {},
   "source": [
    "1 Задание\n",
    "=========="
   ]
  },
  {
   "cell_type": "code",
   "execution_count": 8,
   "metadata": {
    "collapsed": false
   },
   "outputs": [],
   "source": [
    "import numpy as np\n",
    "A = np.array([[1,2,3],[-2,3,0],[5,1,4]])\n",
    "B = np.array([[1,2,3],[2,4,6],[3,7,2]])\n",
    "u = np.array([[-4],[1],[1]])\n",
    "v = np.array([[3],[2],[10]])"
   ]
  },
  {
   "cell_type": "code",
   "execution_count": 9,
   "metadata": {
    "collapsed": false
   },
   "outputs": [
    {
     "name": "stdout",
     "output_type": "stream",
     "text": [
      "A= [[ 1  2  3]\n",
      " [-2  3  0]\n",
      " [ 5  1  4]]\n"
     ]
    }
   ],
   "source": [
    "print(\"A=\",A)"
   ]
  },
  {
   "cell_type": "code",
   "execution_count": 10,
   "metadata": {
    "collapsed": false
   },
   "outputs": [
    {
     "name": "stdout",
     "output_type": "stream",
     "text": [
      "B= [[1 2 3]\n",
      " [2 4 6]\n",
      " [3 7 2]]\n"
     ]
    }
   ],
   "source": [
    "print(\"B=\",B)"
   ]
  },
  {
   "cell_type": "code",
   "execution_count": 11,
   "metadata": {
    "collapsed": false
   },
   "outputs": [
    {
     "name": "stdout",
     "output_type": "stream",
     "text": [
      "u= [[-4]\n",
      " [ 1]\n",
      " [ 1]]\n"
     ]
    }
   ],
   "source": [
    "print(\"u=\",u)"
   ]
  },
  {
   "cell_type": "code",
   "execution_count": 12,
   "metadata": {
    "collapsed": false
   },
   "outputs": [
    {
     "name": "stdout",
     "output_type": "stream",
     "text": [
      "v= [[ 3]\n",
      " [ 2]\n",
      " [10]]\n"
     ]
    }
   ],
   "source": [
    "print(\"v=\",v)"
   ]
  },
  {
   "cell_type": "markdown",
   "metadata": {},
   "source": [
    "2 Задание\n",
    "=========="
   ]
  },
  {
   "cell_type": "code",
   "execution_count": 99,
   "metadata": {
    "collapsed": true
   },
   "outputs": [],
   "source": [
    "S=np.random.random((100,100))*100//10"
   ]
  },
  {
   "cell_type": "code",
   "execution_count": 100,
   "metadata": {
    "collapsed": false
   },
   "outputs": [
    {
     "name": "stdout",
     "output_type": "stream",
     "text": [
      "S =  [[ 5.  8.  4. ...,  0.  2.  7.]\n",
      " [ 8.  2.  7. ...,  8.  3.  2.]\n",
      " [ 7.  4.  1. ...,  8.  7.  4.]\n",
      " ..., \n",
      " [ 4.  3.  7. ...,  4.  3.  7.]\n",
      " [ 7.  7.  8. ...,  1.  0.  7.]\n",
      " [ 7.  7.  5. ...,  2.  0.  1.]]\n"
     ]
    }
   ],
   "source": [
    "print(\"S = \", S)"
   ]
  },
  {
   "cell_type": "code",
   "execution_count": 85,
   "metadata": {
    "collapsed": false
   },
   "outputs": [
    {
     "name": "stdout",
     "output_type": "stream",
     "text": [
      "w =  [[ 3.98533751]\n",
      " [ 0.02896789]\n",
      " [ 5.38880478]\n",
      " [ 1.06594226]\n",
      " [ 4.79248493]\n",
      " [ 5.77238869]\n",
      " [ 8.17026787]\n",
      " [ 4.3460855 ]\n",
      " [ 1.6505452 ]\n",
      " [ 2.69865341]\n",
      " [ 0.69937377]\n",
      " [ 0.22851139]\n",
      " [ 7.61202615]\n",
      " [ 7.58652016]\n",
      " [ 7.70980073]\n",
      " [ 9.54369947]\n",
      " [ 7.52378628]\n",
      " [ 3.62874011]\n",
      " [ 3.41625897]\n",
      " [ 4.16200171]\n",
      " [ 1.34727346]\n",
      " [ 6.86264338]\n",
      " [ 5.38669398]\n",
      " [ 4.36771228]\n",
      " [ 1.89182662]\n",
      " [ 5.0534485 ]\n",
      " [ 5.12046275]\n",
      " [ 0.44939196]\n",
      " [ 4.62875219]\n",
      " [ 0.30443448]\n",
      " [ 7.08618906]\n",
      " [ 6.31944444]\n",
      " [ 4.53636354]\n",
      " [ 5.23325273]\n",
      " [ 2.8066653 ]\n",
      " [ 6.00871789]\n",
      " [ 3.53552974]\n",
      " [ 8.65917972]\n",
      " [ 4.17004797]\n",
      " [ 3.19766841]\n",
      " [ 7.49650328]\n",
      " [ 4.25479277]\n",
      " [ 8.54190445]\n",
      " [ 9.65153604]\n",
      " [ 2.6255926 ]\n",
      " [ 6.26794381]\n",
      " [ 7.78280217]\n",
      " [ 6.16837714]\n",
      " [ 8.39554299]\n",
      " [ 8.18324358]\n",
      " [ 1.87611457]\n",
      " [ 7.17671251]\n",
      " [ 3.3218844 ]\n",
      " [ 2.03122115]\n",
      " [ 4.06853275]\n",
      " [ 0.18170485]\n",
      " [ 4.32952707]\n",
      " [ 5.70667205]\n",
      " [ 2.51171635]\n",
      " [ 4.5446767 ]\n",
      " [ 8.65457404]\n",
      " [ 6.90589062]\n",
      " [ 9.9388712 ]\n",
      " [ 2.80608826]\n",
      " [ 1.03212851]\n",
      " [ 4.76022811]\n",
      " [ 6.48487764]\n",
      " [ 5.43298089]\n",
      " [ 8.10582624]\n",
      " [ 6.31974105]\n",
      " [ 2.43709183]\n",
      " [ 6.16138662]\n",
      " [ 4.21857904]\n",
      " [ 0.06971937]\n",
      " [ 8.39593295]\n",
      " [ 6.57093447]\n",
      " [ 9.64701043]\n",
      " [ 8.6753057 ]\n",
      " [ 4.11554766]\n",
      " [ 1.09477402]\n",
      " [ 1.05923855]\n",
      " [ 5.02935169]\n",
      " [ 2.51265055]\n",
      " [ 3.85910348]\n",
      " [ 8.61765611]\n",
      " [ 3.14104311]\n",
      " [ 0.9473609 ]\n",
      " [ 5.05729911]\n",
      " [ 4.54756799]\n",
      " [ 8.57655347]\n",
      " [ 1.44117096]\n",
      " [ 6.57692124]\n",
      " [ 1.09583827]\n",
      " [ 7.55137368]\n",
      " [ 7.00324728]\n",
      " [ 4.94262567]\n",
      " [ 5.02246322]\n",
      " [ 5.64419728]\n",
      " [ 7.34180863]\n",
      " [ 2.92771915]]\n"
     ]
    }
   ],
   "source": [
    "w=np.random.random((100,1))*10\n",
    "print(\"w = \",w)"
   ]
  },
  {
   "cell_type": "markdown",
   "metadata": {},
   "source": [
    "3 Задание\n",
    "==========\n"
   ]
  },
  {
   "cell_type": "code",
   "execution_count": 166,
   "metadata": {
    "collapsed": false
   },
   "outputs": [],
   "source": [
    "A = np.array([[1,2,3],[-2,3,0],[5,1,4]])"
   ]
  },
  {
   "cell_type": "code",
   "execution_count": 171,
   "metadata": {
    "collapsed": false
   },
   "outputs": [],
   "source": [
    "B = np.array([[1,2,3],[2,4,6],[3,7,2]])"
   ]
  },
  {
   "cell_type": "code",
   "execution_count": 109,
   "metadata": {
    "collapsed": false
   },
   "outputs": [],
   "source": [
    "u = np.array([-4,1,1])"
   ]
  },
  {
   "cell_type": "code",
   "execution_count": 110,
   "metadata": {
    "collapsed": false
   },
   "outputs": [],
   "source": [
    "v = np.array([3,2,10])"
   ]
  },
  {
   "cell_type": "code",
   "execution_count": 144,
   "metadata": {
    "collapsed": false
   },
   "outputs": [],
   "source": [
    "w=np.random.random((100,1))*100//10"
   ]
  },
  {
   "cell_type": "code",
   "execution_count": 158,
   "metadata": {
    "collapsed": true
   },
   "outputs": [],
   "source": [
    "C=np.random.random((100,100))*100//10"
   ]
  },
  {
   "cell_type": "code",
   "execution_count": 146,
   "metadata": {
    "collapsed": false
   },
   "outputs": [
    {
     "name": "stdout",
     "output_type": "stream",
     "text": [
      "A + B =  [[2 4 6]\n",
      " [0 7 6]\n",
      " [8 8 6]]\n"
     ]
    }
   ],
   "source": [
    "print(\"A + B = \", np.matrix(A) + np.matrix(B))"
   ]
  },
  {
   "cell_type": "code",
   "execution_count": 147,
   "metadata": {
    "collapsed": false
   },
   "outputs": [
    {
     "name": "stdout",
     "output_type": "stream",
     "text": [
      "AB =  [[14 31 21]\n",
      " [ 4  8 12]\n",
      " [19 42 29]]\n"
     ]
    }
   ],
   "source": [
    "print(\"AB = \", np.matrix(A) * np.matrix(B))"
   ]
  },
  {
   "cell_type": "code",
   "execution_count": 148,
   "metadata": {
    "collapsed": false
   },
   "outputs": [
    {
     "name": "stdout",
     "output_type": "stream",
     "text": [
      "A^3 =  [[ 65  72  96]\n",
      " [-48  -7 -48]\n",
      " [144 128 193]]\n"
     ]
    }
   ],
   "source": [
    "print(\"A^3 = \", np.matrix(A)**3)"
   ]
  },
  {
   "cell_type": "code",
   "execution_count": 149,
   "metadata": {
    "collapsed": false
   },
   "outputs": [
    {
     "name": "stdout",
     "output_type": "stream",
     "text": [
      "A^3 =  [[ 57 142 126]\n",
      " [ 48  44  60]\n",
      " [ 80 193 173]]\n"
     ]
    }
   ],
   "source": [
    "print(\"A^3 = \", np.matrix(A) * np.matrix(B) * np.matrix(A))"
   ]
  },
  {
   "cell_type": "code",
   "execution_count": 150,
   "metadata": {
    "collapsed": false
   },
   "outputs": [
    {
     "name": "stdout",
     "output_type": "stream",
     "text": [
      "vTAT(u+2v) =  1271\n"
     ]
    }
   ],
   "source": [
    "print(\"vTAT(u+2v) = \", np.dot(np.dot(v.T,A.T), (u+2*v)))"
   ]
  },
  {
   "cell_type": "code",
   "execution_count": 151,
   "metadata": {
    "collapsed": false
   },
   "outputs": [
    {
     "name": "stdout",
     "output_type": "stream",
     "text": [
      "u*v =  0\n"
     ]
    }
   ],
   "source": [
    "print(\"u*v = \", np.dot(u,v))"
   ]
  },
  {
   "cell_type": "code",
   "execution_count": 153,
   "metadata": {
    "collapsed": true
   },
   "outputs": [],
   "source": [
    "C1 = 1\n"
   ]
  },
  {
   "cell_type": "code",
   "execution_count": 154,
   "metadata": {
    "collapsed": false
   },
   "outputs": [
    {
     "name": "stdout",
     "output_type": "stream",
     "text": [
      "Cw =  [[ 9.]\n",
      " [ 3.]\n",
      " [ 5.]\n",
      " [ 3.]\n",
      " [ 3.]\n",
      " [ 9.]\n",
      " [ 3.]\n",
      " [ 1.]\n",
      " [ 8.]\n",
      " [ 4.]\n",
      " [ 9.]\n",
      " [ 8.]\n",
      " [ 1.]\n",
      " [ 2.]\n",
      " [ 0.]\n",
      " [ 9.]\n",
      " [ 1.]\n",
      " [ 1.]\n",
      " [ 9.]\n",
      " [ 6.]\n",
      " [ 5.]\n",
      " [ 1.]\n",
      " [ 5.]\n",
      " [ 6.]\n",
      " [ 1.]\n",
      " [ 6.]\n",
      " [ 8.]\n",
      " [ 9.]\n",
      " [ 8.]\n",
      " [ 9.]\n",
      " [ 5.]\n",
      " [ 1.]\n",
      " [ 3.]\n",
      " [ 2.]\n",
      " [ 4.]\n",
      " [ 4.]\n",
      " [ 2.]\n",
      " [ 1.]\n",
      " [ 4.]\n",
      " [ 7.]\n",
      " [ 8.]\n",
      " [ 0.]\n",
      " [ 1.]\n",
      " [ 5.]\n",
      " [ 6.]\n",
      " [ 8.]\n",
      " [ 9.]\n",
      " [ 8.]\n",
      " [ 7.]\n",
      " [ 8.]\n",
      " [ 5.]\n",
      " [ 3.]\n",
      " [ 7.]\n",
      " [ 4.]\n",
      " [ 0.]\n",
      " [ 6.]\n",
      " [ 1.]\n",
      " [ 5.]\n",
      " [ 7.]\n",
      " [ 3.]\n",
      " [ 6.]\n",
      " [ 9.]\n",
      " [ 0.]\n",
      " [ 1.]\n",
      " [ 4.]\n",
      " [ 2.]\n",
      " [ 9.]\n",
      " [ 0.]\n",
      " [ 2.]\n",
      " [ 7.]\n",
      " [ 5.]\n",
      " [ 9.]\n",
      " [ 9.]\n",
      " [ 5.]\n",
      " [ 3.]\n",
      " [ 8.]\n",
      " [ 9.]\n",
      " [ 0.]\n",
      " [ 3.]\n",
      " [ 5.]\n",
      " [ 7.]\n",
      " [ 4.]\n",
      " [ 8.]\n",
      " [ 6.]\n",
      " [ 9.]\n",
      " [ 9.]\n",
      " [ 7.]\n",
      " [ 1.]\n",
      " [ 8.]\n",
      " [ 2.]\n",
      " [ 4.]\n",
      " [ 6.]\n",
      " [ 2.]\n",
      " [ 7.]\n",
      " [ 0.]\n",
      " [ 2.]\n",
      " [ 0.]\n",
      " [ 8.]\n",
      " [ 6.]\n",
      " [ 3.]]\n"
     ]
    }
   ],
   "source": [
    "print(\"Cw = \", C1*w)"
   ]
  },
  {
   "cell_type": "code",
   "execution_count": 157,
   "metadata": {
    "collapsed": false
   },
   "outputs": [
    {
     "name": "stdout",
     "output_type": "stream",
     "text": [
      "wTC =  [[ 9.  3.  5.  3.  3.  9.  3.  1.  8.  4.  9.  8.  1.  2.  0.  9.  1.  1.\n",
      "   9.  6.  5.  1.  5.  6.  1.  6.  8.  9.  8.  9.  5.  1.  3.  2.  4.  4.\n",
      "   2.  1.  4.  7.  8.  0.  1.  5.  6.  8.  9.  8.  7.  8.  5.  3.  7.  4.\n",
      "   0.  6.  1.  5.  7.  3.  6.  9.  0.  1.  4.  2.  9.  0.  2.  7.  5.  9.\n",
      "   9.  5.  3.  8.  9.  0.  3.  5.  7.  4.  8.  6.  9.  9.  7.  1.  8.  2.\n",
      "   4.  6.  2.  7.  0.  2.  0.  8.  6.  3.]]\n"
     ]
    }
   ],
   "source": [
    "print(\"wTC = \", w.T*C1)"
   ]
  },
  {
   "cell_type": "code",
   "execution_count": 159,
   "metadata": {
    "collapsed": false
   },
   "outputs": [
    {
     "name": "stdout",
     "output_type": "stream",
     "text": [
      "C =  [[ 2.  6.  6. ...,  8.  3.  8.]\n",
      " [ 9.  4.  2. ...,  9.  5.  1.]\n",
      " [ 9.  4.  9. ...,  0.  5.  8.]\n",
      " ..., \n",
      " [ 3.  4.  0. ...,  9.  7.  1.]\n",
      " [ 4.  3.  9. ...,  5.  6.  0.]\n",
      " [ 0.  4.  9. ...,  4.  6.  1.]]\n"
     ]
    }
   ],
   "source": [
    "print(\"C = \", C)"
   ]
  },
  {
   "cell_type": "markdown",
   "metadata": {},
   "source": [
    "4 Задание\n",
    "=========="
   ]
  },
  {
   "cell_type": "code",
   "execution_count": 62,
   "metadata": {
    "collapsed": true
   },
   "outputs": [],
   "source": [
    "S1=np.array([np.arange(0, 20, 1)])"
   ]
  },
  {
   "cell_type": "code",
   "execution_count": 63,
   "metadata": {
    "collapsed": true
   },
   "outputs": [],
   "source": [
    "S2=np.array([np.arange(0, 20, 1)])"
   ]
  },
  {
   "cell_type": "code",
   "execution_count": 64,
   "metadata": {
    "collapsed": false
   },
   "outputs": [
    {
     "name": "stdout",
     "output_type": "stream",
     "text": [
      "[[  0   0   0   0   0   0   0   0   0   0   0   0   0   0   0   0   0   0\n",
      "    0   0]\n",
      " [  0   1   2   3   4   5   6   7   8   9  10  11  12  13  14  15  16  17\n",
      "   18  19]\n",
      " [  0   2   4   6   8  10  12  14  16  18  20  22  24  26  28  30  32  34\n",
      "   36  38]\n",
      " [  0   3   6   9  12  15  18  21  24  27  30  33  36  39  42  45  48  51\n",
      "   54  57]\n",
      " [  0   4   8  12  16  20  24  28  32  36  40  44  48  52  56  60  64  68\n",
      "   72  76]\n",
      " [  0   5  10  15  20  25  30  35  40  45  50  55  60  65  70  75  80  85\n",
      "   90  95]\n",
      " [  0   6  12  18  24  30  36  42  48  54  60  66  72  78  84  90  96 102\n",
      "  108 114]\n",
      " [  0   7  14  21  28  35  42  49  56  63  70  77  84  91  98 105 112 119\n",
      "  126 133]\n",
      " [  0   8  16  24  32  40  48  56  64  72  80  88  96 104 112 120 128 136\n",
      "  144 152]\n",
      " [  0   9  18  27  36  45  54  63  72  81  90  99 108 117 126 135 144 153\n",
      "  162 171]\n",
      " [  0  10  20  30  40  50  60  70  80  90 100 110 120 130 140 150 160 170\n",
      "  180 190]\n",
      " [  0  11  22  33  44  55  66  77  88  99 110 121 132 143 154 165 176 187\n",
      "  198 209]\n",
      " [  0  12  24  36  48  60  72  84  96 108 120 132 144 156 168 180 192 204\n",
      "  216 228]\n",
      " [  0  13  26  39  52  65  78  91 104 117 130 143 156 169 182 195 208 221\n",
      "  234 247]\n",
      " [  0  14  28  42  56  70  84  98 112 126 140 154 168 182 196 210 224 238\n",
      "  252 266]\n",
      " [  0  15  30  45  60  75  90 105 120 135 150 165 180 195 210 225 240 255\n",
      "  270 285]\n",
      " [  0  16  32  48  64  80  96 112 128 144 160 176 192 208 224 240 256 272\n",
      "  288 304]\n",
      " [  0  17  34  51  68  85 102 119 136 153 170 187 204 221 238 255 272 289\n",
      "  306 323]\n",
      " [  0  18  36  54  72  90 108 126 144 162 180 198 216 234 252 270 288 306\n",
      "  324 342]\n",
      " [  0  19  38  57  76  95 114 133 152 171 190 209 228 247 266 285 304 323\n",
      "  342 361]]\n"
     ]
    }
   ],
   "source": [
    "print(np.dot(S1.T,S2))"
   ]
  },
  {
   "cell_type": "markdown",
   "metadata": {},
   "source": [
    "5 Задание\n",
    "=========="
   ]
  },
  {
   "cell_type": "code",
   "execution_count": 21,
   "metadata": {
    "collapsed": false
   },
   "outputs": [],
   "source": [
    "import numpy as np\n",
    "import scipy.optimize as so\n",
    "A = np.array([[1,2,3],[-2,3,0],[5,1,4]])\n",
    "B = np.array([[1,2,3],[2,4,6],[3,7,2]])\n",
    "u = np.array([[-4],[1],[1]])\n",
    "v = np.array([[3],[2],[10]])\n",
    "sio.savemat ('data1.mat', {'A': A})\n",
    "sio.savemat ('data2.mat', {'B': B})\n",
    "sio.savemat ('data3.mat', {'u': u})\n",
    "sio.savemat ('data4.mat', {'v': v})"
   ]
  },
  {
   "cell_type": "code",
   "execution_count": 23,
   "metadata": {
    "collapsed": false
   },
   "outputs": [
    {
     "name": "stdout",
     "output_type": "stream",
     "text": [
      "A =  [[ 1  2  3]\n",
      " [-2  3  0]\n",
      " [ 5  1  4]]\n"
     ]
    }
   ],
   "source": [
    "c1 = sio.loadmat('data1.mat')['A'] # Загружаем матрицу под именем A и помещаем в переменную B\n",
    "print (\"A = \", c1)"
   ]
  },
  {
   "cell_type": "code",
   "execution_count": 24,
   "metadata": {
    "collapsed": false
   },
   "outputs": [
    {
     "name": "stdout",
     "output_type": "stream",
     "text": [
      "B =  [[1 2 3]\n",
      " [2 4 6]\n",
      " [3 7 2]]\n"
     ]
    }
   ],
   "source": [
    "c2 = sio.loadmat('data2.mat')['B'] # Загружаем матрицу под именем A и помещаем в переменную B\n",
    "print (\"B = \", c2)"
   ]
  },
  {
   "cell_type": "code",
   "execution_count": 25,
   "metadata": {
    "collapsed": false
   },
   "outputs": [
    {
     "name": "stdout",
     "output_type": "stream",
     "text": [
      "u =  [[-4]\n",
      " [ 1]\n",
      " [ 1]]\n"
     ]
    }
   ],
   "source": [
    "c3 = sio.loadmat('data3.mat')['u'] # Загружаем матрицу под именем A и помещаем в переменную B\n",
    "print (\"u = \", c3)"
   ]
  },
  {
   "cell_type": "code",
   "execution_count": 26,
   "metadata": {
    "collapsed": false
   },
   "outputs": [
    {
     "name": "stdout",
     "output_type": "stream",
     "text": [
      "v =  [[ 3]\n",
      " [ 2]\n",
      " [10]]\n"
     ]
    }
   ],
   "source": [
    "c4 = sio.loadmat('data4.mat')['v'] # Загружаем матрицу под именем A и помещаем в переменную B\n",
    "print (\"v = \", c4)"
   ]
  },
  {
   "cell_type": "markdown",
   "metadata": {},
   "source": [
    "6 Задание\n",
    "=========="
   ]
  },
  {
   "cell_type": "code",
   "execution_count": 65,
   "metadata": {
    "collapsed": false
   },
   "outputs": [
    {
     "name": "stdout",
     "output_type": "stream",
     "text": [
      "sum A =  19\n"
     ]
    }
   ],
   "source": [
    "print(\"sum A = \", A[A>0].sum())"
   ]
  },
  {
   "cell_type": "code",
   "execution_count": 66,
   "metadata": {
    "collapsed": false
   },
   "outputs": [
    {
     "name": "stdout",
     "output_type": "stream",
     "text": [
      "sum B =  30\n"
     ]
    }
   ],
   "source": [
    "print(\"sum B = \", B[B>0].sum())"
   ]
  },
  {
   "cell_type": "markdown",
   "metadata": {},
   "source": [
    "7 Задание\n",
    "=========="
   ]
  },
  {
   "cell_type": "code",
   "execution_count": 143,
   "metadata": {
    "collapsed": false
   },
   "outputs": [
    {
     "name": "stdout",
     "output_type": "stream",
     "text": [
      "[1, 3, 3, 5, 4]\n"
     ]
    }
   ],
   "source": [
    "print([A[i,j] for i in range(0, A.shape[0]) for j in range(0, A.shape[1]) if (i+j) % 2 == 0])"
   ]
  },
  {
   "cell_type": "markdown",
   "metadata": {},
   "source": [
    "8 Задание\n",
    "=========="
   ]
  },
  {
   "cell_type": "code",
   "execution_count": 168,
   "metadata": {
    "collapsed": false
   },
   "outputs": [
    {
     "name": "stdout",
     "output_type": "stream",
     "text": [
      "A^(-1) =  [[-0.52173913  0.2173913   0.39130435]\n",
      " [-0.34782609  0.47826087  0.26086957]\n",
      " [ 0.73913043 -0.39130435 -0.30434783]]\n"
     ]
    }
   ],
   "source": [
    "print(\"A^(-1) = \", np.linalg.inv(A))"
   ]
  },
  {
   "cell_type": "code",
   "execution_count": 169,
   "metadata": {
    "collapsed": false
   },
   "outputs": [
    {
     "name": "stdout",
     "output_type": "stream",
     "text": [
      "A^(-1) =  [[-0.52173913  0.2173913   0.39130435]\n",
      " [-0.34782609  0.47826087  0.26086957]\n",
      " [ 0.73913043 -0.39130435 -0.30434783]]\n"
     ]
    }
   ],
   "source": [
    "print(\"A^(-1) = \", np.linalg.pinv(A))"
   ]
  },
  {
   "cell_type": "code",
   "execution_count": 173,
   "metadata": {
    "collapsed": false
   },
   "outputs": [
    {
     "name": "stdout",
     "output_type": "stream",
     "text": [
      "B^(-1) =  [[-0.00412979 -0.00825959  0.0560472 ]\n",
      " [-0.02182891 -0.04365782  0.15339233]\n",
      " [ 0.08259587  0.16519174 -0.12094395]]\n"
     ]
    }
   ],
   "source": [
    "print(\"B^(-1) = \", np.linalg.pinv(B))"
   ]
  },
  {
   "cell_type": "code",
   "execution_count": 174,
   "metadata": {
    "collapsed": false
   },
   "outputs": [
    {
     "name": "stdout",
     "output_type": "stream",
     "text": [
      "Det(B) =  0.0\n"
     ]
    }
   ],
   "source": [
    "print(\"Det(B) = \", np.linalg.det(B))"
   ]
  },
  {
   "cell_type": "code",
   "execution_count": 185,
   "metadata": {
    "collapsed": false
   },
   "outputs": [
    {
     "name": "stdout",
     "output_type": "stream",
     "text": [
      "C^(-1) [[-0.0004768  -0.00826832  0.02100401 ...,  0.01885444  0.07164509\n",
      "  -0.03294868]\n",
      " [ 0.02035181 -0.05262552 -0.09857073 ..., -0.02437706  0.06081031\n",
      "   0.08462065]\n",
      " [ 0.03702117 -0.02073934 -0.08339211 ..., -0.04570952  0.04926411\n",
      "   0.0607782 ]\n",
      " ..., \n",
      " [ 0.02338843 -0.05046844 -0.08271735 ..., -0.0361625   0.09588414\n",
      "   0.06742532]\n",
      " [ 0.0500539  -0.07913516 -0.13034819 ..., -0.08072329  0.18685369\n",
      "   0.09594401]\n",
      " [ 0.0101281  -0.05360819 -0.03155872 ..., -0.01367781  0.02484554\n",
      "  -0.00494505]]\n"
     ]
    }
   ],
   "source": [
    "print(\"C^(-1)\", np.linalg.inv(C))"
   ]
  },
  {
   "cell_type": "code",
   "execution_count": 186,
   "metadata": {
    "collapsed": false
   },
   "outputs": [
    {
     "name": "stdout",
     "output_type": "stream",
     "text": [
      "C^(-1) [[-0.0004768  -0.00826832  0.02100401 ...,  0.01885444  0.07164509\n",
      "  -0.03294868]\n",
      " [ 0.02035181 -0.05262552 -0.09857073 ..., -0.02437706  0.06081031\n",
      "   0.08462065]\n",
      " [ 0.03702117 -0.02073934 -0.08339211 ..., -0.04570952  0.04926411\n",
      "   0.0607782 ]\n",
      " ..., \n",
      " [ 0.02338843 -0.05046844 -0.08271735 ..., -0.0361625   0.09588414\n",
      "   0.06742532]\n",
      " [ 0.0500539  -0.07913516 -0.13034819 ..., -0.08072329  0.18685369\n",
      "   0.09594401]\n",
      " [ 0.0101281  -0.05360819 -0.03155872 ..., -0.01367781  0.02484554\n",
      "  -0.00494505]]\n"
     ]
    }
   ],
   "source": [
    "print(\"C^(-1)\", np.linalg.pinv(C))"
   ]
  },
  {
   "cell_type": "markdown",
   "metadata": {},
   "source": [
    "Проверка"
   ]
  },
  {
   "cell_type": "code",
   "execution_count": 178,
   "metadata": {
    "collapsed": false
   },
   "outputs": [
    {
     "name": "stdout",
     "output_type": "stream",
     "text": [
      "A*A^(-1) =  [[  1.00000000e+00   2.22044605e-16   0.00000000e+00]\n",
      " [ -4.44089210e-16   1.00000000e+00   1.11022302e-16]\n",
      " [  4.44089210e-16   0.00000000e+00   1.00000000e+00]]\n"
     ]
    }
   ],
   "source": [
    "print(\"A*A^(-1) = \", np.matrix(A) * np.linalg.inv(A))"
   ]
  },
  {
   "cell_type": "code",
   "execution_count": 183,
   "metadata": {
    "collapsed": false
   },
   "outputs": [
    {
     "name": "stdout",
     "output_type": "stream",
     "text": [
      "(A+)+ =  [[  1.00000000e+00   2.00000000e+00   3.00000000e+00]\n",
      " [ -2.00000000e+00   3.00000000e+00   4.44089210e-16]\n",
      " [  5.00000000e+00   1.00000000e+00   4.00000000e+00]]\n"
     ]
    }
   ],
   "source": [
    "print(\"(A+)+ = \", np.linalg.pinv(np.linalg.pinv(A)))"
   ]
  },
  {
   "cell_type": "code",
   "execution_count": 184,
   "metadata": {
    "collapsed": false
   },
   "outputs": [
    {
     "name": "stdout",
     "output_type": "stream",
     "text": [
      "(B+)+ =  [[ 1.  2.  3.]\n",
      " [ 2.  4.  6.]\n",
      " [ 3.  7.  2.]]\n"
     ]
    }
   ],
   "source": [
    "print(\"(B+)+ = \", np.linalg.pinv(np.linalg.pinv(B)))"
   ]
  },
  {
   "cell_type": "code",
   "execution_count": 187,
   "metadata": {
    "collapsed": false
   },
   "outputs": [
    {
     "name": "stdout",
     "output_type": "stream",
     "text": [
      "C*C^(-1) =  [[  1.00000000e+00  -1.33226763e-15  -4.44089210e-16 ...,   2.91433544e-16\n",
      "    8.32667268e-17   1.94289029e-16]\n",
      " [  1.11022302e-16   1.00000000e+00  -6.66133815e-16 ...,  -5.37764278e-17\n",
      "    1.49186219e-16  -1.07552856e-16]\n",
      " [  1.83186799e-15  -4.55191440e-15   1.00000000e+00 ...,  -2.26207941e-15\n",
      "    7.85482790e-15   8.57647287e-15]\n",
      " ..., \n",
      " [  1.95156391e-15   1.25593980e-15  -1.24900090e-15 ...,   1.00000000e+00\n",
      "    2.81372148e-15   1.94635974e-15]\n",
      " [ -1.66533454e-15   3.77475828e-15   2.22044605e-15 ...,   2.72004641e-15\n",
      "    1.00000000e+00  -1.77635684e-15]\n",
      " [  5.08273978e-16   2.01227923e-16   9.71445147e-16 ...,  -3.86843335e-16\n",
      "    1.49186219e-16   1.00000000e+00]]\n"
     ]
    }
   ],
   "source": [
    "print(\"C*C^(-1) = \", np.matrix(C) * np.linalg.inv(C))"
   ]
  },
  {
   "cell_type": "code",
   "execution_count": 188,
   "metadata": {
    "collapsed": false
   },
   "outputs": [
    {
     "name": "stdout",
     "output_type": "stream",
     "text": [
      "(C+)+ =  [[  2.00000000e+00   6.00000000e+00   6.00000000e+00 ...,   8.00000000e+00\n",
      "    3.00000000e+00   8.00000000e+00]\n",
      " [  9.00000000e+00   4.00000000e+00   2.00000000e+00 ...,   9.00000000e+00\n",
      "    5.00000000e+00   1.00000000e+00]\n",
      " [  9.00000000e+00   4.00000000e+00   9.00000000e+00 ...,   4.08562073e-14\n",
      "    5.00000000e+00   8.00000000e+00]\n",
      " ..., \n",
      " [  3.00000000e+00   4.00000000e+00  -2.57571742e-14 ...,   9.00000000e+00\n",
      "    7.00000000e+00   1.00000000e+00]\n",
      " [  4.00000000e+00   3.00000000e+00   9.00000000e+00 ...,   5.00000000e+00\n",
      "    6.00000000e+00  -1.24344979e-14]\n",
      " [ -2.66453526e-14   4.00000000e+00   9.00000000e+00 ...,   4.00000000e+00\n",
      "    6.00000000e+00   1.00000000e+00]]\n"
     ]
    }
   ],
   "source": [
    "print(\"(C+)+ = \", np.linalg.pinv(np.linalg.pinv(C)))"
   ]
  },
  {
   "cell_type": "markdown",
   "metadata": {
    "collapsed": true
   },
   "source": [
    "9 Задание\n",
    "=========="
   ]
  },
  {
   "cell_type": "code",
   "execution_count": 4,
   "metadata": {
    "collapsed": true
   },
   "outputs": [],
   "source": [
    "import numpy as np"
   ]
  },
  {
   "cell_type": "code",
   "execution_count": 6,
   "metadata": {
    "collapsed": false
   },
   "outputs": [],
   "source": [
    "c1=np.array([[32, 7, -6], [-5, -20, 3], [0, 1, -3]])"
   ]
  },
  {
   "cell_type": "code",
   "execution_count": 7,
   "metadata": {
    "collapsed": true
   },
   "outputs": [],
   "source": [
    "c2=np.array([12, 3, 7])"
   ]
  },
  {
   "cell_type": "code",
   "execution_count": 8,
   "metadata": {
    "collapsed": true
   },
   "outputs": [],
   "source": [
    "x = np.linalg.solve(c1, c2)"
   ]
  },
  {
   "cell_type": "code",
   "execution_count": 9,
   "metadata": {
    "collapsed": false
   },
   "outputs": [
    {
     "name": "stdout",
     "output_type": "stream",
     "text": [
      "[ 0.02058319 -0.53173242 -2.51057747]\n"
     ]
    }
   ],
   "source": [
    "print(x)"
   ]
  },
  {
   "cell_type": "code",
   "execution_count": null,
   "metadata": {
    "collapsed": true
   },
   "outputs": [],
   "source": [
    "Проверка"
   ]
  },
  {
   "cell_type": "code",
   "execution_count": 22,
   "metadata": {
    "collapsed": false
   },
   "outputs": [
    {
     "name": "stdout",
     "output_type": "stream",
     "text": [
      "[12.0, 3.0000000000000018, 7.0]\n"
     ]
    }
   ],
   "source": [
    "print([np.sum([c1[i, j]*x[j] for j in range(0, len(x))]) for i in range(0, len(x))])"
   ]
  },
  {
   "cell_type": "markdown",
   "metadata": {},
   "source": [
    "10 Задание\n",
    "=========="
   ]
  },
  {
   "cell_type": "code",
   "execution_count": 23,
   "metadata": {
    "collapsed": true
   },
   "outputs": [],
   "source": [
    "import numpy as np"
   ]
  },
  {
   "cell_type": "code",
   "execution_count": 24,
   "metadata": {
    "collapsed": true
   },
   "outputs": [],
   "source": [
    "A = np.array([[1,2,3],[-2,3,0],[5,1,4]])"
   ]
  },
  {
   "cell_type": "code",
   "execution_count": 25,
   "metadata": {
    "collapsed": true
   },
   "outputs": [],
   "source": [
    "B = np.array([[1,2,3],[2,4,6],[3,7,2]])"
   ]
  },
  {
   "cell_type": "code",
   "execution_count": 26,
   "metadata": {
    "collapsed": false
   },
   "outputs": [
    {
     "name": "stdout",
     "output_type": "stream",
     "text": [
      "(array([-1.2048138 ,  6.04880331,  3.1560105 ]), array([[ 0.65469823,  0.41079451, -0.06309612],\n",
      "       [ 0.31140415, -0.26947918,  0.80887018],\n",
      "       [-0.68876533,  0.87099302, -0.58459209]]))\n"
     ]
    }
   ],
   "source": [
    "print(np.linalg.eig(A))"
   ]
  },
  {
   "cell_type": "code",
   "execution_count": 27,
   "metadata": {
    "collapsed": false
   },
   "outputs": [
    {
     "name": "stdout",
     "output_type": "stream",
     "text": [
      "(array([  1.07972598e+01,   6.76542156e-17,  -3.79725976e+00]), array([[-0.33836643, -0.92331326, -0.27117218],\n",
      "       [-0.67673286,  0.38018781, -0.54234436],\n",
      "       [-0.65386603,  0.05431254,  0.7951907 ]]))\n"
     ]
    }
   ],
   "source": [
    "print(np.linalg.eig(B))"
   ]
  },
  {
   "cell_type": "markdown",
   "metadata": {
    "collapsed": true
   },
   "source": [
    "11 Задание\n",
    "=========="
   ]
  },
  {
   "cell_type": "code",
   "execution_count": 32,
   "metadata": {
    "collapsed": false
   },
   "outputs": [
    {
     "name": "stdout",
     "output_type": "stream",
     "text": [
      "     njev: 18\n",
      "      fun: -0.08568445282773764\n",
      "   status: 0\n",
      "      jac: array([ -4.93600965e-08])\n",
      "  success: True\n",
      " hess_inv: array([[ 1.33557708]])\n",
      "        x: array([ 1.88781921])\n",
      "     nfev: 54\n",
      "  message: 'Optimization terminated successfully.'\n",
      "      nit: 10\n"
     ]
    }
   ],
   "source": [
    "import scipy.optimize as so\n",
    "import numpy as np\n",
    "\n",
    "def f(x):\n",
    "    d = 5*(x-2)**4 - 1/(x**2+8)\n",
    "    return np.array([d])\n",
    "x_min = so.minimize(f, 0.0, method='BFGS') # 0.0 — начальная точка\n",
    "print (x_min)"
   ]
  },
  {
   "cell_type": "code",
   "execution_count": 38,
   "metadata": {
    "collapsed": false
   },
   "outputs": [
    {
     "name": "stdout",
     "output_type": "stream",
     "text": [
      " success: True\n",
      "     fun: 0.0\n",
      "  status: 0\n",
      "       x: array([ 0.,  0.])\n",
      "    nfev: 69\n",
      " message: 'Optimization terminated successfully.'\n",
      "     nit: 34\n"
     ]
    }
   ],
   "source": [
    "def f(x):\n",
    "    return 4*(x[0]-3*x[1])**2+7*x[0]**4\n",
    "x_min = so.minimize(f, [0,0], method='Nelder-Mead', options={'xtol': 1e-6}) # [0.0, 0.0] — начальная точка\n",
    "print (x_min)"
   ]
  },
  {
   "cell_type": "markdown",
   "metadata": {
    "collapsed": true
   },
   "source": [
    "12 Задание\n",
    "=========="
   ]
  },
  {
   "cell_type": "code",
   "execution_count": 38,
   "metadata": {
    "collapsed": true
   },
   "outputs": [],
   "source": [
    "import matplotlib.pyplot as plt\n",
    "from matplotlib import rc\n",
    "rc('font', family='Verdana')\n",
    "import numpy as np\n",
    "%matplotlib inline"
   ]
  },
  {
   "cell_type": "code",
   "execution_count": 39,
   "metadata": {
    "collapsed": true
   },
   "outputs": [],
   "source": [
    "def g1(x):\n",
    "    return x**5 - 2*x**4 + 3*x - 7\n",
    "def g2(x):\n",
    "    return x**5 + 2*x**4 - 3*x - 7"
   ]
  },
  {
   "cell_type": "code",
   "execution_count": 40,
   "metadata": {
    "collapsed": false
   },
   "outputs": [
    {
     "data": {
      "image/png": "[encoded data removed]",
      "text/plain": [
       "<matplotlib.figure.Figure at 0xb8d1f0>"
      ]
     },
     "metadata": {},
     "output_type": "display_data"
    }
   ],
   "source": [
    "x = np.linspace(0, 5, 100)\n",
    "y1 = g1(x)\n",
    "y2 = g2(x)\n",
    "plt.plot(x, y1)\n",
    "plt.plot(x, y2)\n",
    "plt.xlabel('x')\n",
    "plt.ylabel('x^5-2x^4+3x-7, x^5+2x^4-3x-7')\n",
    "plt.legend(['Степенная1', 'Степенная2']) \n",
    "plt.title('Степенные функции')\n",
    "plt.show() "
   ]
  },
  {
   "cell_type": "markdown",
   "metadata": {},
   "source": [
    "13 Задание\n",
    "=========="
   ]
  },
  {
   "cell_type": "code",
   "execution_count": 41,
   "metadata": {
    "collapsed": true
   },
   "outputs": [],
   "source": [
    "import matplotlib.pyplot as plt\n",
    "from matplotlib import rc\n",
    "rc('font', family='Verdana')\n",
    "import numpy as np\n",
    "%matplotlib inline"
   ]
  },
  {
   "cell_type": "code",
   "execution_count": 42,
   "metadata": {
    "collapsed": true
   },
   "outputs": [],
   "source": [
    "def g1(x):\n",
    "    return x**5 - 2*x**4 + 3*x - 7\n",
    "def g2(x):\n",
    "    return x**5 + 2*x**4 - 3*x - 7"
   ]
  },
  {
   "cell_type": "code",
   "execution_count": 48,
   "metadata": {
    "collapsed": false
   },
   "outputs": [
    {
     "data": {
      "image/png": "[encoded data removed]",
      "text/plain": [
       "<matplotlib.figure.Figure at 0x6a7d670>"
      ]
     },
     "metadata": {},
     "output_type": "display_data"
    }
   ],
   "source": [
    "x = np.linspace(0, 5, 100)\n",
    "y1 = g1(x)\n",
    "y2 = g2(x)\n",
    "\n",
    "plt.subplot(1,2,1)\n",
    "plt.plot(x, y1)\n",
    "plt.xlabel('x')\n",
    "plt.title('x^5-2x^4+3x-7')\n",
    "\n",
    "plt.subplot(1,2,2)\n",
    "plt.plot(x, y2)\n",
    "plt.xlabel('x')\n",
    "plt.title('x^5+2x^4-3x-7')\n",
    "\n",
    "plt.show() "
   ]
  },
  {
   "cell_type": "code",
   "execution_count": 89,
   "metadata": {
    "collapsed": false
   },
   "outputs": [
    {
     "name": "stdout",
     "output_type": "stream",
     "text": [
      "Zero g1 [2.0485199951951514]\n",
      "Zero g2 [-1.900439749129121, -1.4933955021782699, 1.3476781350683311]\n"
     ]
    }
   ],
   "source": [
    "import numpy as np\n",
    "import scipy.optimize as so\n",
    "h = 0.0001\n",
    "eps = 1e-10\n",
    "a = -10\n",
    "b = 10\n",
    "def g1(x):\n",
    "    return x**5 - 2*x**4 + 3*x - 7\n",
    "def g2(x):\n",
    "    return x**5 + 2*x**4 - 3*x - 7\n",
    "x1 = []\n",
    "x2 = []\n",
    "for i in np.arange(a, b+h, h):\n",
    "    if g1(i)*g1(i+h) < 0:\n",
    "        x1.append(so.brentq(g1, i, i+h))\n",
    "    if g2(i)*g2(i+h) < 0:\n",
    "        x2.append(so.brentq(g2, i, i+h))\n",
    "print(\"Zero g1\", x1)\n",
    "print(\"Zero g2\", x2)"
   ]
  },
  {
   "cell_type": "markdown",
   "metadata": {
    "collapsed": true
   },
   "source": [
    "Проверка"
   ]
  },
  {
   "cell_type": "code",
   "execution_count": 90,
   "metadata": {
    "collapsed": false
   },
   "outputs": [
    {
     "name": "stdout",
     "output_type": "stream",
     "text": [
      "g1(x1) =  [3.552713678800501e-15]\n",
      "g2(x2) =  [-4.440892098500626e-15, 0.0, -2.417621658423741e-12]\n"
     ]
    }
   ],
   "source": [
    "print(\"g1(x1) = \", [g1(x1[i]) for i in range(0, len(x1))])\n",
    "print(\"g2(x2) = \", [g2(x2[i]) for i in range(0, len(x2))])"
   ]
  },
  {
   "cell_type": "code",
   "execution_count": null,
   "metadata": {
    "collapsed": true
   },
   "outputs": [],
   "source": []
  }
 ],
 "metadata": {
  "kernelspec": {
   "display_name": "Python 3",
   "language": "python",
   "name": "python3"
  },
  "language_info": {
   "codemirror_mode": {
    "name": "ipython",
    "version": 3
   },
   "file_extension": ".py",
   "mimetype": "text/x-python",
   "name": "python",
   "nbconvert_exporter": "python",
   "pygments_lexer": "ipython3",
   "version": "3.5.0"
  }
 },
 "nbformat": 4,
 "nbformat_minor": 0
}
